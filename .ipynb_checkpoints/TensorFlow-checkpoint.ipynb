{
 "cells": [
  {
   "cell_type": "code",
   "execution_count": 9,
   "id": "1c4abd8b-4a80-498b-ba78-8db90995aeea",
   "metadata": {},
   "outputs": [
    {
     "data": {
      "text/html": [
       "<div>\n",
       "<style scoped>\n",
       "    .dataframe tbody tr th:only-of-type {\n",
       "        vertical-align: middle;\n",
       "    }\n",
       "\n",
       "    .dataframe tbody tr th {\n",
       "        vertical-align: top;\n",
       "    }\n",
       "\n",
       "    .dataframe thead th {\n",
       "        text-align: right;\n",
       "    }\n",
       "</style>\n",
       "<table border=\"1\" class=\"dataframe\">\n",
       "  <thead>\n",
       "    <tr style=\"text-align: right;\">\n",
       "      <th></th>\n",
       "      <th>Titulo</th>\n",
       "      <th>Sinopse</th>\n",
       "    </tr>\n",
       "  </thead>\n",
       "  <tbody>\n",
       "    <tr>\n",
       "      <th>3165</th>\n",
       "      <td>The Mars Generation</td>\n",
       "      <td>self professed teenage  space nerds  at space ...</td>\n",
       "    </tr>\n",
       "    <tr>\n",
       "      <th>666</th>\n",
       "      <td>Space Sweepers</td>\n",
       "      <td>chasing after space debris and faraway dreams ...</td>\n",
       "    </tr>\n",
       "    <tr>\n",
       "      <th>1156</th>\n",
       "      <td>The Magic School Bus Rides Again Kids In Space</td>\n",
       "      <td>the magic school bus kids blast into orbit   a...</td>\n",
       "    </tr>\n",
       "    <tr>\n",
       "      <th>2794</th>\n",
       "      <td>Pocoyo Halloween: Space Halloween</td>\n",
       "      <td>pocoyo and his friends have a costume contest ...</td>\n",
       "    </tr>\n",
       "    <tr>\n",
       "      <th>702</th>\n",
       "      <td>Pinkfong &amp; Baby Shark's Space Adventure</td>\n",
       "      <td>joined by new friends from other planets  pink...</td>\n",
       "    </tr>\n",
       "  </tbody>\n",
       "</table>\n",
       "</div>"
      ],
      "text/plain": [
       "                                              Titulo  \\\n",
       "3165                             The Mars Generation   \n",
       "666                                   Space Sweepers   \n",
       "1156  The Magic School Bus Rides Again Kids In Space   \n",
       "2794               Pocoyo Halloween: Space Halloween   \n",
       "702          Pinkfong & Baby Shark's Space Adventure   \n",
       "\n",
       "                                                Sinopse  \n",
       "3165  self professed teenage  space nerds  at space ...  \n",
       "666   chasing after space debris and faraway dreams ...  \n",
       "1156  the magic school bus kids blast into orbit   a...  \n",
       "2794  pocoyo and his friends have a costume contest ...  \n",
       "702   joined by new friends from other planets  pink...  "
      ]
     },
     "execution_count": 9,
     "metadata": {},
     "output_type": "execute_result"
    }
   ],
   "source": [
    "import pandas as pd\n",
    "import tensorflow as tf\n",
    "from sklearn.feature_extraction.text import TfidfVectorizer\n",
    "from sklearn.metrics.pairwise import cosine_similarity\n",
    "\n",
    "# Carregar os dados dos filmes\n",
    "df = pd.read_csv(\"dados.csv\")  # Certifique-se de ter um arquivo CSV com os dados dos filmes\n",
    "\n",
    "# Pré-processamento dos dados\n",
    "# Aqui vamos usar apenas título e sinopse como features\n",
    "text_data = df['Titulo'] + \" \" + df['Sinopse']\n",
    "\n",
    "# Vetorização dos dados de texto\n",
    "vectorizer = TfidfVectorizer(stop_words='english')\n",
    "text_matrix = vectorizer.fit_transform(text_data)\n",
    "\n",
    "# Modelo de similaridade\n",
    "def recommend_movies(input_text, vectorizer, text_matrix, df, top_n=5):\n",
    "    # Vetorizar o texto de entrada\n",
    "    input_vector = vectorizer.transform([input_text])\n",
    "    # Calcular a similaridade do cosseno entre o texto de entrada e os textos dos filmes\n",
    "    similarities = cosine_similarity(input_vector, text_matrix)\n",
    "    # Obter os índices dos filmes mais semelhantes\n",
    "    similar_indices = similarities.argsort(axis=1)[:, ::-1][:, :top_n]\n",
    "    # Recuperar os filmes recomendados\n",
    "    recommended_movies = df.iloc[similar_indices[0]]\n",
    "    return recommended_movies\n",
    "\n",
    "# Teste do programa\n",
    "user_input = \"SPACE\"\n",
    "recommended_movies = recommend_movies(user_input, vectorizer, text_matrix, df)\n",
    "recommended_movies[['Titulo', 'Sinopse']]"
   ]
  },
  {
   "cell_type": "code",
   "execution_count": 6,
   "id": "11f5d616-ec8b-4321-a14b-3a866c289ded",
   "metadata": {},
   "outputs": [
    {
     "name": "stdout",
     "output_type": "stream",
     "text": [
      "Empty DataFrame\n",
      "Columns: [Sinopse, Genero]\n",
      "Index: []\n"
     ]
    }
   ],
   "source": [
    "print(recommended_movies.head())\n"
   ]
  }
 ],
 "metadata": {
  "kernelspec": {
   "display_name": "Python 3 (ipykernel)",
   "language": "python",
   "name": "python3"
  },
  "language_info": {
   "codemirror_mode": {
    "name": "ipython",
    "version": 3
   },
   "file_extension": ".py",
   "mimetype": "text/x-python",
   "name": "python",
   "nbconvert_exporter": "python",
   "pygments_lexer": "ipython3",
   "version": "3.11.7"
  }
 },
 "nbformat": 4,
 "nbformat_minor": 5
}
