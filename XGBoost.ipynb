{
 "cells": [
  {
   "cell_type": "code",
   "execution_count": null,
   "id": "ba68ba37-7f10-4933-b7c3-68fd21bac6bd",
   "metadata": {},
   "outputs": [],
   "source": [
    "import pandas as pd\n",
    "import xgboost as xgb\n",
    "from sklearn.feature_extraction.text import TfidfVectorizer\n",
    "\n",
    "# Carregar o DataFrame com os dados dos filmes\n",
    "df = pd.read_csv('dados.csv')\n",
    "\n",
    "# Vetorizar as sinopses\n",
    "vectorizer = TfidfVectorizer(stop_words='english')\n",
    "X = vectorizer.fit_transform(df['Sinopse'])\n",
    "\n",
    "# Definir os dados de treinamento\n",
    "dtrain = xgb.DMatrix(X, label=df['Titulo'])\n",
    "\n",
    "# Definir os parâmetros do modelo XGBoost\n",
    "params = {\n",
    "    'objective': 'multi:softmax',\n",
    "    'num_class': len(df['Titulo'].unique()),\n",
    "    'random_state': 42\n",
    "}\n",
    "\n",
    "# Treinar o modelo\n",
    "model_xgb = xgb.train(params, dtrain)\n",
    "\n",
    "# Fazer a previsão usando o modelo\n",
    "entrada_usuario = input(\"Digite suas preferências: \")\n",
    "entrada_usuario_vector = vectorizer.transform([entrada_usuario])\n",
    "entrada_usuario_dmatrix = xgb.DMatrix(entrada_usuario_vector)\n",
    "filme_recomendado_xgb = model_xgb.predict(entrada_usuario_dmatrix)[0]\n",
    "print(\"Filme recomendado para você (XGBoost):\", filme_recomendado_xgb)"
   ]
  }
 ],
 "metadata": {
  "kernelspec": {
   "display_name": "Python 3 (ipykernel)",
   "language": "python",
   "name": "python3"
  },
  "language_info": {
   "name": ""
  }
 },
 "nbformat": 4,
 "nbformat_minor": 5
}
