{
 "cells": [
  {
   "cell_type": "code",
   "execution_count": null,
   "id": "7d9e00f8-fb12-4a37-8730-d179626ec0e3",
   "metadata": {},
   "outputs": [],
   "source": [
    "import pandas as pd\n",
    "from sklearn.feature_extraction.text import TfidfVectorizer\n",
    "from sklearn.ensemble import GradientBoostingClassifier\n",
    "from sklearn.pipeline import Pipeline\n",
    "\n",
    "# Carregar o DataFrame com os dados dos filmes\n",
    "df = pd.read_csv('dados.csv')\n",
    "\n",
    "# Definir pipeline com vetorizador TF-IDF e modelo Gradient Boosting\n",
    "pipeline_gb = Pipeline([\n",
    "    ('tfidf', TfidfVectorizer(stop_words='english')),  # Adicionando a vírgula aqui\n",
    "    ('clf', GradientBoostingClassifier(n_estimators=100, random_state=42))\n",
    "])\n",
    "\n",
    "# Treinar o modelo\n",
    "pipeline_gb.fit(df['Sinopse'], df['Titulo'])\n",
    "\n",
    "# Fazer a previsão usando o modelo\n",
    "entrada_usuario = input(\"Digite suas preferências: \")\n",
    "filme_recomendado_gb = pipeline_gb.predict([entrada_usuario])[0]\n",
    "print(\"Filme recomendado para você (Gradient Boosting):\", filme_recomendado_gb)\n"
   ]
  }
 ],
 "metadata": {
  "kernelspec": {
   "display_name": "Python 3 (ipykernel)",
   "language": "python",
   "name": "python3"
  },
  "language_info": {
   "codemirror_mode": {
    "name": "ipython",
    "version": 3
   },
   "file_extension": ".py",
   "mimetype": "text/x-python",
   "name": "python",
   "nbconvert_exporter": "python",
   "pygments_lexer": "ipython3",
   "version": "3.11.7"
  }
 },
 "nbformat": 4,
 "nbformat_minor": 5
}
