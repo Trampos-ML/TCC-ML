{
 "cells": [
  {
   "cell_type": "code",
   "execution_count": 10,
   "id": "cfd2ecf8-aecd-402d-b7ee-1a76ff2e4a29",
   "metadata": {},
   "outputs": [
    {
     "ename": "ValueError",
     "evalue": "Invalid classes inferred from unique values of `y`.  Expected: [   0    1    2 ... 4547 4548 4549], got [   0    1    2 ... 5685 5686 5687]",
     "output_type": "error",
     "traceback": [
      "\u001b[1;31m---------------------------------------------------------------------------\u001b[0m",
      "\u001b[1;31mValueError\u001b[0m                                Traceback (most recent call last)",
      "Cell \u001b[1;32mIn[10], line 43\u001b[0m\n\u001b[0;32m     41\u001b[0m \u001b[38;5;66;03m# Treinar o modelo\u001b[39;00m\n\u001b[0;32m     42\u001b[0m model_xgb \u001b[38;5;241m=\u001b[39m xgb\u001b[38;5;241m.\u001b[39mXGBClassifier(\u001b[38;5;241m*\u001b[39m\u001b[38;5;241m*\u001b[39mparams)\n\u001b[1;32m---> 43\u001b[0m model_xgb\u001b[38;5;241m.\u001b[39mfit(X_train, y_train)\n\u001b[0;32m     45\u001b[0m \u001b[38;5;66;03m# Fazer a previsão usando o modelo\u001b[39;00m\n\u001b[0;32m     46\u001b[0m entrada_usuario \u001b[38;5;241m=\u001b[39m \u001b[38;5;28minput\u001b[39m(\u001b[38;5;124m\"\u001b[39m\u001b[38;5;124mDigite suas preferências: \u001b[39m\u001b[38;5;124m\"\u001b[39m)\n",
      "File \u001b[1;32mC:\\Anaconda\\Lib\\site-packages\\xgboost\\core.py:730\u001b[0m, in \u001b[0;36mrequire_keyword_args.<locals>.throw_if.<locals>.inner_f\u001b[1;34m(*args, **kwargs)\u001b[0m\n\u001b[0;32m    728\u001b[0m \u001b[38;5;28;01mfor\u001b[39;00m k, arg \u001b[38;5;129;01min\u001b[39;00m \u001b[38;5;28mzip\u001b[39m(sig\u001b[38;5;241m.\u001b[39mparameters, args):\n\u001b[0;32m    729\u001b[0m     kwargs[k] \u001b[38;5;241m=\u001b[39m arg\n\u001b[1;32m--> 730\u001b[0m \u001b[38;5;28;01mreturn\u001b[39;00m func(\u001b[38;5;241m*\u001b[39m\u001b[38;5;241m*\u001b[39mkwargs)\n",
      "File \u001b[1;32mC:\\Anaconda\\Lib\\site-packages\\xgboost\\sklearn.py:1471\u001b[0m, in \u001b[0;36mXGBClassifier.fit\u001b[1;34m(self, X, y, sample_weight, base_margin, eval_set, eval_metric, early_stopping_rounds, verbose, xgb_model, sample_weight_eval_set, base_margin_eval_set, feature_weights, callbacks)\u001b[0m\n\u001b[0;32m   1466\u001b[0m     expected_classes \u001b[38;5;241m=\u001b[39m \u001b[38;5;28mself\u001b[39m\u001b[38;5;241m.\u001b[39mclasses_\n\u001b[0;32m   1467\u001b[0m \u001b[38;5;28;01mif\u001b[39;00m (\n\u001b[0;32m   1468\u001b[0m     classes\u001b[38;5;241m.\u001b[39mshape \u001b[38;5;241m!=\u001b[39m expected_classes\u001b[38;5;241m.\u001b[39mshape\n\u001b[0;32m   1469\u001b[0m     \u001b[38;5;129;01mor\u001b[39;00m \u001b[38;5;129;01mnot\u001b[39;00m (classes \u001b[38;5;241m==\u001b[39m expected_classes)\u001b[38;5;241m.\u001b[39mall()\n\u001b[0;32m   1470\u001b[0m ):\n\u001b[1;32m-> 1471\u001b[0m     \u001b[38;5;28;01mraise\u001b[39;00m \u001b[38;5;167;01mValueError\u001b[39;00m(\n\u001b[0;32m   1472\u001b[0m         \u001b[38;5;124mf\u001b[39m\u001b[38;5;124m\"\u001b[39m\u001b[38;5;124mInvalid classes inferred from unique values of `y`.  \u001b[39m\u001b[38;5;124m\"\u001b[39m\n\u001b[0;32m   1473\u001b[0m         \u001b[38;5;124mf\u001b[39m\u001b[38;5;124m\"\u001b[39m\u001b[38;5;124mExpected: \u001b[39m\u001b[38;5;132;01m{\u001b[39;00mexpected_classes\u001b[38;5;132;01m}\u001b[39;00m\u001b[38;5;124m, got \u001b[39m\u001b[38;5;132;01m{\u001b[39;00mclasses\u001b[38;5;132;01m}\u001b[39;00m\u001b[38;5;124m\"\u001b[39m\n\u001b[0;32m   1474\u001b[0m     )\n\u001b[0;32m   1476\u001b[0m params \u001b[38;5;241m=\u001b[39m \u001b[38;5;28mself\u001b[39m\u001b[38;5;241m.\u001b[39mget_xgb_params()\n\u001b[0;32m   1478\u001b[0m \u001b[38;5;28;01mif\u001b[39;00m \u001b[38;5;28mcallable\u001b[39m(\u001b[38;5;28mself\u001b[39m\u001b[38;5;241m.\u001b[39mobjective):\n",
      "\u001b[1;31mValueError\u001b[0m: Invalid classes inferred from unique values of `y`.  Expected: [   0    1    2 ... 4547 4548 4549], got [   0    1    2 ... 5685 5686 5687]"
     ]
    }
   ],
   "source": [
    "import pandas as pd\n",
    "import numpy as np\n",
    "import xgboost as xgb\n",
    "from sklearn.feature_extraction.text import TfidfVectorizer\n",
    "from sklearn.preprocessing import LabelEncoder\n",
    "from sklearn.model_selection import train_test_split\n",
    "\n",
    "# Carregar o DataFrame com os dados dos filmes\n",
    "df = pd.read_csv('dados.csv')\n",
    "\n",
    "# Pré-processamento dos dados\n",
    "# Combine título e sinopse em uma única representação de texto\n",
    "df['combined_features'] = df['Titulo'] + ' ' + df['Sinopse']\n",
    "\n",
    "# Codificar os títulos dos filmes para valores numéricos\n",
    "label_encoder = LabelEncoder()\n",
    "df['Titulo_encoded'] = label_encoder.fit_transform(df['Titulo'])\n",
    "\n",
    "# Vetorizar as características combinadas\n",
    "vectorizer = TfidfVectorizer(stop_words='english')\n",
    "X = vectorizer.fit_transform(df['combined_features'])\n",
    "y = df['Titulo_encoded']  # Usar os títulos codificados como classes\n",
    "\n",
    "# Dividir o conjunto de dados em treino e teste\n",
    "X_train, X_test, y_train, y_test = train_test_split(X, y, test_size=0.2, random_state=42)\n",
    "\n",
    "# Obter títulos únicos apenas do conjunto de treinamento\n",
    "unique_titles_train = df.loc[y_train.index, 'Titulo'].unique()\n",
    "\n",
    "# Filtrar o conjunto de teste para incluir apenas os títulos presentes no conjunto de treinamento\n",
    "X_test_filtered = X_test[y_test.isin(unique_titles_train)]\n",
    "y_test_filtered = y_test[y_test.isin(unique_titles_train)]\n",
    "\n",
    "# Definir os parâmetros do modelo XGBoost\n",
    "params = {\n",
    "    'objective': 'multi:softmax',  # Usar a função de perda multi-softmax para classificação multiclasse\n",
    "    'num_class': len(np.unique(y_train)),  # Número de classes é o número de títulos únicos no conjunto de treinamento\n",
    "    'random_state': 42\n",
    "}\n",
    "\n",
    "# Treinar o modelo\n",
    "model_xgb = xgb.XGBClassifier(**params)\n",
    "model_xgb.fit(X_train, y_train)\n",
    "\n",
    "# Fazer a previsão usando o modelo\n",
    "entrada_usuario = input(\"Digite suas preferências: \")\n",
    "entrada_usuario_vector = vectorizer.transform([entrada_usuario])\n",
    "\n",
    "# Prever o índice do filme recomendado\n",
    "indice_filme_recomendado = model_xgb.predict(entrada_usuario_vector)[0]\n",
    "\n",
    "# Decodificar o índice para obter o título do filme recomendado\n",
    "filme_recomendado = label_encoder.inverse_transform([indice_filme_recomendado])[0]\n",
    "\n",
    "# Imprimir o filme recomendado\n",
    "print(\"Filme recomendado:\", filme_recomendado)"
   ]
  }
 ],
 "metadata": {
  "kernelspec": {
   "display_name": "Python 3 (ipykernel)",
   "language": "python",
   "name": "python3"
  },
  "language_info": {
   "codemirror_mode": {
    "name": "ipython",
    "version": 3
   },
   "file_extension": ".py",
   "mimetype": "text/x-python",
   "name": "python",
   "nbconvert_exporter": "python",
   "pygments_lexer": "ipython3",
   "version": "3.11.7"
  }
 },
 "nbformat": 4,
 "nbformat_minor": 5
}
