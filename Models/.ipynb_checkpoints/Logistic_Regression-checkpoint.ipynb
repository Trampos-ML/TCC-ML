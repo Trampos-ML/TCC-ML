{
 "cells": [
  {
   "cell_type": "code",
   "execution_count": null,
   "id": "c54837c1-7cd8-4dd7-8d31-d1c739cb71e8",
   "metadata": {},
   "outputs": [],
   "source": [
    "from sklearn.preprocessing import LabelEncoder\n",
    "import pandas as pd\n",
    "\n",
    "# Carregar o DataFrame a partir do arquivo CSV\n",
    "df = pd.read_csv('dados.csv')\n",
    "\n",
    "# Criar uma instância do LabelEncoder\n",
    "label_encoder = LabelEncoder()\n",
    "\n",
    "# Salvar os valores originais de todas as colunas do DataFrame\n",
    "valores_originais = df.copy()\n",
    "\n",
    "# Criar um DataFrame para armazenar os valores convertidos\n",
    "valores_convertidos = pd.DataFrame()\n",
    "\n",
    "# Lista das colunas que você deseja rotular\n",
    "colunas_rotular = ['Titulo', 'Genero', 'Pais', 'Sinopse']  # Substitua pelos nomes das suas colunas de texto\n",
    "\n",
    "# Aplicar o LabelEncoder em todas as colunas especificadas\n",
    "for coluna in colunas_rotular:\n",
    "    # Verificar se a coluna é do tipo objeto (texto)\n",
    "    if df[coluna].dtype == 'object':\n",
    "        # Salvar os valores originais da coluna\n",
    "        valores_originais[coluna] = df[coluna].copy()\n",
    "        \n",
    "        # Aplicar o LabelEncoder na coluna\n",
    "        valores_convertidos[coluna] = label_encoder.fit_transform(df[coluna])\n",
    "\n",
    "# Exibir os resultados dos valores convertidos\n",
    "print(\"Valores originais:\")\n",
    "print(valores_originais.head())\n",
    "print(\"\\nValores convertidos para rótulos:\")\n",
    "print(valores_convertidos.head())"
   ]
  },
  {
   "cell_type": "code",
   "execution_count": null,
   "id": "6fad9381-1e14-444a-98aa-8df878d69c5f",
   "metadata": {},
   "outputs": [],
   "source": [
    "# Reverter os valores codificados de volta para os originais\n",
    "valores_revertidos = valores_convertidos.copy()\n",
    "for coluna in colunas_rotular:\n",
    "    # Criar um mapeamento inverso considerando todos os valores possíveis da coluna\n",
    "    mapeamento_inverso = {codificado: original for codificado, original in zip(valores_convertidos[coluna], valores_originais[coluna])}\n",
    "    # Reverter os valores codificados para os originais usando o mapeamento inverso\n",
    "    valores_revertidos[coluna] = valores_revertidos[coluna].map(mapeamento_inverso)\n",
    "\n",
    "# Exibir os resultados dos valores revertidos\n",
    "print(\"\\nValores revertidos do LabelEncoder:\")\n",
    "print(valores_revertidos.head())"
   ]
  },
  {
   "cell_type": "code",
   "execution_count": null,
   "id": "e5c719bc-bfe1-40ef-86d2-3049fc2f892c",
   "metadata": {},
   "outputs": [],
   "source": []
  },
  {
   "cell_type": "code",
   "execution_count": null,
   "id": "7996c9e9-0dd2-4e73-9d8f-d74f96d6752c",
   "metadata": {},
   "outputs": [],
   "source": []
  },
  {
   "cell_type": "code",
   "execution_count": null,
   "id": "40265318-bb07-4f0c-8a97-cf37552a2fa9",
   "metadata": {},
   "outputs": [],
   "source": []
  },
  {
   "cell_type": "code",
   "execution_count": null,
   "id": "5a7d7c84-1a15-43b8-a48d-b79b8310bb40",
   "metadata": {},
   "outputs": [],
   "source": []
  },
  {
   "cell_type": "code",
   "execution_count": null,
   "id": "ea575ff1-40c7-41c6-a10e-85b46f692b7f",
   "metadata": {},
   "outputs": [],
   "source": []
  },
  {
   "cell_type": "code",
   "execution_count": null,
   "id": "f7c634cc-9d1c-46e5-a5d4-e989db62d194",
   "metadata": {},
   "outputs": [],
   "source": []
  },
  {
   "cell_type": "code",
   "execution_count": null,
   "id": "642e1a48-200a-4c16-9464-1155286cac8e",
   "metadata": {},
   "outputs": [],
   "source": []
  },
  {
   "cell_type": "code",
   "execution_count": null,
   "id": "3f95404e-b650-41f4-b37d-da04a3836017",
   "metadata": {},
   "outputs": [],
   "source": [
    "from sklearn.model_selection import train_test_split\n",
    "\n",
    "# Dividir os dados em features (X) e alvo (y)\n",
    "X = df.drop('Titulo', axis=1)  # Features\n",
    "y = df['Titulo']  # Alvo\n",
    "\n",
    "# Dividir os dados em conjuntos de treinamento e teste\n",
    "X_treino, X_teste, y_treino, y_teste = train_test_split(X, y, test_size=0.2, random_state=42)\n",
    "\n",
    "# Exibir as dimensões dos conjuntos de treinamento e teste\n",
    "print(\"Dimensões do conjunto de treinamento:\")\n",
    "print(X_treino.shape, y_treino.shape)\n",
    "print(\"\\nDimensões do conjunto de teste:\")\n",
    "print(X_teste.shape, y_teste.shape)"
   ]
  },
  {
   "cell_type": "code",
   "execution_count": null,
   "id": "0799463c-e70b-43a1-9b1e-e4aaf1f50071",
   "metadata": {},
   "outputs": [],
   "source": []
  },
  {
   "cell_type": "code",
   "execution_count": null,
   "id": "5c8e4cc7-dc22-4d37-a4aa-1ad4d3ab3c66",
   "metadata": {},
   "outputs": [],
   "source": []
  },
  {
   "cell_type": "code",
   "execution_count": 1,
   "id": "ae653dbd-3c1d-4462-9d12-f93b5c1829a2",
   "metadata": {},
   "outputs": [
    {
     "name": "stdout",
     "output_type": "stream",
     "text": [
      "   Titulo  Pais   Ano  Minutagem  Genero  Sinopse\n",
      "0    1295   525  2020         90     179     1819\n",
      "1    3921   578  1993        125     205     3569\n",
      "2    5042   525  2021        104     136      938\n",
      "3    2294   187  2021        127     212     1374\n",
      "4    2296   218  1998        166     159     5400\n"
     ]
    }
   ],
   "source": [
    "from sklearn.preprocessing import LabelEncoder\n",
    "import pandas as pd\n",
    "\n",
    "# Carregar o DataFrame a partir do arquivo CSV\n",
    "df = pd.read_csv('dados.csv')\n",
    "\n",
    "# Criar uma instância do LabelEncoder\n",
    "label_encoder = LabelEncoder()\n",
    "\n",
    "# Aplicar o LabelEncoder em todas as colunas de texto\n",
    "for coluna in df.columns:\n",
    "    if df[coluna].dtype == 'object':\n",
    "        df[coluna] = label_encoder.fit_transform(df[coluna])\n",
    "\n",
    "# Exibir os primeiros registros do DataFrame após a codificação\n",
    "print(df.head())\n"
   ]
  },
  {
   "cell_type": "code",
   "execution_count": 2,
   "id": "dfc733e9-66bb-4fae-b705-c34efa46b28a",
   "metadata": {},
   "outputs": [
    {
     "name": "stdout",
     "output_type": "stream",
     "text": [
      "Dimensões do conjunto de treinamento:\n",
      "(160, 5) (160,)\n",
      "\n",
      "Dimensões do conjunto de teste:\n",
      "(40, 5) (40,)\n"
     ]
    }
   ],
   "source": [
    "from sklearn.model_selection import train_test_split\n",
    "\n",
    "# Reduzir o DataFrame para 200 linhas\n",
    "df_reduzido = df.sample(n=200, random_state=42)\n",
    "\n",
    "# Dividir os dados em features (X) e alvo (y)\n",
    "X = df_reduzido.drop(columns=['Titulo'])  # Features\n",
    "y = df_reduzido['Titulo']  # Alvo\n",
    "\n",
    "# Dividir os dados em conjuntos de treinamento e teste\n",
    "X_treino, X_teste, y_treino, y_teste = train_test_split(X, y, test_size=0.2, random_state=42)\n",
    "\n",
    "# Exibir as dimensões dos conjuntos de treinamento e teste\n",
    "print(\"Dimensões do conjunto de treinamento:\")\n",
    "print(X_treino.shape, y_treino.shape)\n",
    "print(\"\\nDimensões do conjunto de teste:\")\n",
    "print(X_teste.shape, y_teste.shape)"
   ]
  },
  {
   "cell_type": "code",
   "execution_count": 3,
   "id": "8928fa20-060d-45cb-9daa-70a748e9f17c",
   "metadata": {},
   "outputs": [
    {
     "name": "stdout",
     "output_type": "stream",
     "text": [
      "LogisticRegression()\n"
     ]
    },
    {
     "name": "stderr",
     "output_type": "stream",
     "text": [
      "C:\\Users\\arthu\\anaconda3\\Lib\\site-packages\\sklearn\\linear_model\\_logistic.py:458: ConvergenceWarning: lbfgs failed to converge (status=1):\n",
      "STOP: TOTAL NO. of ITERATIONS REACHED LIMIT.\n",
      "\n",
      "Increase the number of iterations (max_iter) or scale the data as shown in:\n",
      "    https://scikit-learn.org/stable/modules/preprocessing.html\n",
      "Please also refer to the documentation for alternative solver options:\n",
      "    https://scikit-learn.org/stable/modules/linear_model.html#logistic-regression\n",
      "  n_iter_i = _check_optimize_result(\n"
     ]
    }
   ],
   "source": [
    "from sklearn.linear_model import LogisticRegression\n",
    "\n",
    "# Criar uma instância do modelo de regressão logística com mais iterações\n",
    "modelo = LogisticRegression()\n",
    "\n",
    "# Treinar o modelo usando os dados de treinamento\n",
    "modelo.fit(X_treino, y_treino)\n",
    "\n",
    "# Exibir o modelo treinado\n",
    "print(modelo)"
   ]
  },
  {
   "cell_type": "code",
   "execution_count": null,
   "id": "6f2649c9-fab0-45f4-a08f-1661a4cba018",
   "metadata": {
    "scrolled": true
   },
   "outputs": [],
   "source": [
    "from sklearn.metrics import accuracy_score, confusion_matrix\n",
    "\n",
    "# Prever os rótulos para os dados de teste\n",
    "y_predito = modelo.predict(X_teste)\n",
    "\n",
    "# Calcular a acurácia do modelo\n",
    "acuracia = accuracy_score(y_teste, y_predito)\n",
    "\n",
    "# Calcular a matriz de confusão\n",
    "matriz_confusao = confusion_matrix(y_teste, y_predito)\n",
    "\n",
    "# Exibir a acurácia e a matriz de confusão\n",
    "print(\"Acurácia do modelo:\", acuracia)\n",
    "print(\"Matriz de confusão:\")\n",
    "print(matriz_confusao)\n"
   ]
  },
  {
   "cell_type": "code",
   "execution_count": null,
   "id": "3a703d65-743e-4576-9e99-9a653eeeeb88",
   "metadata": {},
   "outputs": [],
   "source": [
    "from sklearn.metrics import accuracy_score, confusion_matrix\n",
    "\n",
    "# Prever os rótulos para os dados de teste\n",
    "y_predito = modelo.predict(X_teste)\n",
    "\n",
    "# Calcular a acurácia do modelo\n",
    "acuracia = accuracy_score(y_teste, y_predito)\n",
    "\n",
    "# Calcular a matriz de confusão\n",
    "matriz_confusao = confusion_matrix(y_teste, y_predito)\n",
    "\n",
    "# Exibir a acurácia e a matriz de confusão\n",
    "print(\"Acurácia do modelo:\", acuracia)\n",
    "print(\"Matriz de confusão:\")\n",
    "print(matriz_confusao)\n"
   ]
  },
  {
   "cell_type": "code",
   "execution_count": null,
   "id": "0d665e14-ab92-42d5-8de5-5d4761ba4337",
   "metadata": {},
   "outputs": [],
   "source": [
    "# Reverter os rótulos preditos de volta para os valores originais\n",
    "rotulos_preditos_originais = label_encoder.inverse_transform(y_predito)\n",
    "\n",
    "# Exibir os rótulos preditos revertidos\n",
    "print(\"\\nRótulos preditos revertidos:\")\n",
    "print(rotulos_preditos_originais)\n"
   ]
  }
 ],
 "metadata": {
  "kernelspec": {
   "display_name": "Python 3 (ipykernel)",
   "language": "python",
   "name": "python3"
  },
  "language_info": {
   "codemirror_mode": {
    "name": "ipython",
    "version": 3
   },
   "file_extension": ".py",
   "mimetype": "text/x-python",
   "name": "python",
   "nbconvert_exporter": "python",
   "pygments_lexer": "ipython3",
   "version": "3.11.7"
  }
 },
 "nbformat": 4,
 "nbformat_minor": 5
}
