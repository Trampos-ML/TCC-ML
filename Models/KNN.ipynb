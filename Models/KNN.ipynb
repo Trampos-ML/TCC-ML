{
 "cells": [
  {
   "cell_type": "code",
   "execution_count": 7,
   "id": "b5014ce2-642c-4294-937c-c470a34f530e",
   "metadata": {
    "scrolled": true
   },
   "outputs": [
    {
     "data": {
      "text/html": [
       "<div>\n",
       "<style scoped>\n",
       "    .dataframe tbody tr th:only-of-type {\n",
       "        vertical-align: middle;\n",
       "    }\n",
       "\n",
       "    .dataframe tbody tr th {\n",
       "        vertical-align: top;\n",
       "    }\n",
       "\n",
       "    .dataframe thead th {\n",
       "        text-align: right;\n",
       "    }\n",
       "</style>\n",
       "<table border=\"1\" class=\"dataframe\">\n",
       "  <thead>\n",
       "    <tr style=\"text-align: right;\">\n",
       "      <th></th>\n",
       "      <th>Titulo</th>\n",
       "      <th>Sinopse</th>\n",
       "      <th>Genero</th>\n",
       "    </tr>\n",
       "  </thead>\n",
       "  <tbody>\n",
       "    <tr>\n",
       "      <th>796</th>\n",
       "      <td>She's the One</td>\n",
       "      <td>when his best friend gets stranded in the rain...</td>\n",
       "      <td>Dramas, International Movies, Romantic Movies</td>\n",
       "    </tr>\n",
       "    <tr>\n",
       "      <th>4636</th>\n",
       "      <td>Mission: Destroy Love</td>\n",
       "      <td>two strangers meet by chance on a trip to thai...</td>\n",
       "      <td>Comedies, International Movies, Romantic Movies</td>\n",
       "    </tr>\n",
       "    <tr>\n",
       "      <th>4576</th>\n",
       "      <td>Mandobasar Galpo</td>\n",
       "      <td>with the assistance of a psychiatrist  an accl...</td>\n",
       "      <td>Dramas, International Movies, Romantic Movies</td>\n",
       "    </tr>\n",
       "    <tr>\n",
       "      <th>2615</th>\n",
       "      <td>What the Jatt!!</td>\n",
       "      <td>a peasant from punjab and his best friend pose...</td>\n",
       "      <td>Comedies, International Movies, Romantic Movies</td>\n",
       "    </tr>\n",
       "    <tr>\n",
       "      <th>4579</th>\n",
       "      <td>Manhattan Romance</td>\n",
       "      <td>a filmmaker working on a documentary about lov...</td>\n",
       "      <td>Comedies, Independent Movies, Romantic Movies</td>\n",
       "    </tr>\n",
       "  </tbody>\n",
       "</table>\n",
       "</div>"
      ],
      "text/plain": [
       "                     Titulo  \\\n",
       "796           She's the One   \n",
       "4636  Mission: Destroy Love   \n",
       "4576       Mandobasar Galpo   \n",
       "2615        What the Jatt!!   \n",
       "4579      Manhattan Romance   \n",
       "\n",
       "                                                Sinopse  \\\n",
       "796   when his best friend gets stranded in the rain...   \n",
       "4636  two strangers meet by chance on a trip to thai...   \n",
       "4576  with the assistance of a psychiatrist  an accl...   \n",
       "2615  a peasant from punjab and his best friend pose...   \n",
       "4579  a filmmaker working on a documentary about lov...   \n",
       "\n",
       "                                               Genero  \n",
       "796     Dramas, International Movies, Romantic Movies  \n",
       "4636  Comedies, International Movies, Romantic Movies  \n",
       "4576    Dramas, International Movies, Romantic Movies  \n",
       "2615  Comedies, International Movies, Romantic Movies  \n",
       "4579    Comedies, Independent Movies, Romantic Movies  "
      ]
     },
     "execution_count": 7,
     "metadata": {},
     "output_type": "execute_result"
    }
   ],
   "source": [
    "import pandas as pd\n",
    "from sklearn.feature_extraction.text import TfidfVectorizer\n",
    "from sklearn.neighbors import NearestNeighbors\n",
    "\n",
    "# Carregar o DataFrame com os dados dos filmes\n",
    "df = pd.read_csv('dados.csv')\n",
    "\n",
    "# 3. Combinar título, sinopse e gênero em uma única coluna\n",
    "df['Features'] = df['Titulo'] + ' ' + df['Sinopse'] + ' ' + df['Genero'] + ' ' + df['Pais'] + ' ' + df['Ano'].astype(str) + ' ' + df['Minutagem'].astype(str)\n",
    "\n",
    "# Criar um vetorizador TF-IDF para converter o texto em recursos numéricos\n",
    "vectorizer = TfidfVectorizer(stop_words='english')  \n",
    "X = vectorizer.fit_transform(df['Features'])\n",
    "\n",
    "# Criar e treinar o modelo KNN\n",
    "knn = NearestNeighbors(n_neighbors=5, metric='cosine')\n",
    "knn.fit(X)\n",
    "\n",
    "# Função para recomendar filmes com base na entrada do usuário\n",
    "def recommend_movies(user_input):\n",
    "    # Vetorizar a entrada do usuário\n",
    "    entrada_usuario_vector = vectorizer.transform([user_input])\n",
    "\n",
    "    # Encontrar os filmes mais próximos da entrada do usuário\n",
    "    distances, indices = knn.kneighbors(entrada_usuario_vector)\n",
    "    \n",
    "    # Criar um DataFrame com os filmes recomendados\n",
    "    recommended_movies_df = df.iloc[indices[0]][['Titulo', 'Sinopse', 'Genero']]\n",
    "\n",
    "    return recommended_movies_df\n",
    "\n",
    "# Solicitar entrada do usuário\n",
    "user_input = \"Romantic\"\n",
    "\n",
    "# Recomendar filmes com base na entrada do usuário\n",
    "recommended_movies = recommend_movies(user_input)\n",
    "\n",
    "# Exibir os títulos e sinopses dos filmes recomendados\n",
    "recommended_movies"
   ]
  },
  {
   "cell_type": "code",
   "execution_count": 2,
   "id": "e83ae76e-0b9e-494c-8a4b-19db84aa6bc8",
   "metadata": {},
   "outputs": [
    {
     "name": "stdout",
     "output_type": "stream",
     "text": [
      "Defaulting to user installation because normal site-packages is not writeable\n",
      "Requirement already satisfied: psutil in c:\\programdata\\anaconda3\\lib\\site-packages (5.9.0)\n"
     ]
    }
   ],
   "source": [
    "!pip install psutil"
   ]
  },
  {
   "cell_type": "code",
   "execution_count": 12,
   "id": "7d7d64ed-0c78-4555-ad3d-ca8e0aba2e96",
   "metadata": {},
   "outputs": [
    {
     "name": "stdout",
     "output_type": "stream",
     "text": [
      "Verdadeiros Positivos: 17\n",
      "Falsos Positivos: 2\n",
      "Verdadeiros Negativos: 18\n",
      "Falsos Negativos: 5\n",
      "Acurácia: 0.6188679245283019\n"
     ]
    },
    {
     "data": {
      "application/vnd.plotly.v1+json": {
       "config": {
        "plotlyServerURL": "https://plot.ly"
       },
       "data": [
        {
         "colorbar": {
          "title": {
           "text": "Contagem"
          }
         },
         "colorscale": [
          [
           0,
           "rgb(247,251,255)"
          ],
          [
           0.125,
           "rgb(222,235,247)"
          ],
          [
           0.25,
           "rgb(198,219,239)"
          ],
          [
           0.375,
           "rgb(158,202,225)"
          ],
          [
           0.5,
           "rgb(107,174,214)"
          ],
          [
           0.625,
           "rgb(66,146,198)"
          ],
          [
           0.75,
           "rgb(33,113,181)"
          ],
          [
           0.875,
           "rgb(8,81,156)"
          ],
          [
           1,
           "rgb(8,48,107)"
          ]
         ],
         "hoverongaps": false,
         "type": "heatmap",
         "x": [
          "Action & Adventure",
          "Anime Features",
          "Children & Family Movies",
          "Comedies",
          "Documentaries",
          "Dramas",
          "Horror Movies",
          "Independent Movies",
          "Movies",
          "Music & Musicals",
          "Romantic Movies",
          "Sports Movies",
          "Stand-Up Comedy",
          "Thrillers"
         ],
         "y": [
          "Action & Adventure",
          "Anime Features",
          "Children & Family Movies",
          "Comedies",
          "Documentaries",
          "Dramas",
          "Horror Movies",
          "Independent Movies",
          "Movies",
          "Music & Musicals",
          "Romantic Movies",
          "Sports Movies",
          "Stand-Up Comedy",
          "Thrillers"
         ],
         "z": [
          [
           18,
           2,
           3,
           1,
           0,
           1,
           0,
           0,
           0,
           0,
           0,
           0,
           0
          ],
          [
           5,
           17,
           1,
           3,
           1,
           0,
           0,
           0,
           0,
           0,
           0,
           0,
           0
          ],
          [
           4,
           4,
           3,
           3,
           2,
           1,
           0,
           0,
           0,
           0,
           0,
           4,
           0
          ],
          [
           4,
           2,
           2,
           47,
           3,
           1,
           0,
           0,
           0,
           0,
           0,
           5,
           0
          ],
          [
           5,
           1,
           3,
           3,
           8,
           1,
           0,
           0,
           0,
           0,
           0,
           1,
           0
          ],
          [
           0,
           0,
           1,
           3,
           0,
           1,
           0,
           0,
           0,
           0,
           0,
           1,
           0
          ],
          [
           0,
           0,
           0,
           1,
           0,
           0,
           0,
           0,
           0,
           0,
           0,
           0,
           0
          ],
          [
           0,
           2,
           1,
           1,
           0,
           0,
           0,
           1,
           0,
           0,
           0,
           0,
           1
          ],
          [
           0,
           0,
           0,
           0,
           0,
           0,
           0,
           0,
           0,
           0,
           0,
           2,
           0
          ],
          [
           0,
           1,
           0,
           0,
           0,
           0,
           0,
           0,
           0,
           0,
           0,
           0,
           0
          ],
          [
           0,
           1,
           0,
           0,
           0,
           0,
           0,
           0,
           0,
           0,
           0,
           0,
           0
          ],
          [
           1,
           2,
           5,
           4,
           0,
           0,
           0,
           0,
           0,
           0,
           0,
           68,
           0
          ],
          [
           3,
           2,
           0,
           0,
           2,
           0,
           0,
           0,
           0,
           0,
           0,
           1,
           1
          ]
         ]
        }
       ],
       "layout": {
        "annotations": [
         {
          "font": {
           "color": "black",
           "size": 12
          },
          "showarrow": false,
          "text": "18",
          "x": "Action & Adventure",
          "y": "Action & Adventure"
         },
         {
          "font": {
           "color": "black",
           "size": 12
          },
          "showarrow": false,
          "text": "2",
          "x": "Anime Features",
          "y": "Action & Adventure"
         },
         {
          "font": {
           "color": "black",
           "size": 12
          },
          "showarrow": false,
          "text": "3",
          "x": "Children & Family Movies",
          "y": "Action & Adventure"
         },
         {
          "font": {
           "color": "black",
           "size": 12
          },
          "showarrow": false,
          "text": "1",
          "x": "Comedies",
          "y": "Action & Adventure"
         },
         {
          "font": {
           "color": "black",
           "size": 12
          },
          "showarrow": false,
          "text": "1",
          "x": "Dramas",
          "y": "Action & Adventure"
         },
         {
          "font": {
           "color": "black",
           "size": 12
          },
          "showarrow": false,
          "text": "5",
          "x": "Action & Adventure",
          "y": "Anime Features"
         },
         {
          "font": {
           "color": "black",
           "size": 12
          },
          "showarrow": false,
          "text": "17",
          "x": "Anime Features",
          "y": "Anime Features"
         },
         {
          "font": {
           "color": "black",
           "size": 12
          },
          "showarrow": false,
          "text": "1",
          "x": "Children & Family Movies",
          "y": "Anime Features"
         },
         {
          "font": {
           "color": "black",
           "size": 12
          },
          "showarrow": false,
          "text": "3",
          "x": "Comedies",
          "y": "Anime Features"
         },
         {
          "font": {
           "color": "black",
           "size": 12
          },
          "showarrow": false,
          "text": "1",
          "x": "Documentaries",
          "y": "Anime Features"
         },
         {
          "font": {
           "color": "black",
           "size": 12
          },
          "showarrow": false,
          "text": "4",
          "x": "Action & Adventure",
          "y": "Children & Family Movies"
         },
         {
          "font": {
           "color": "black",
           "size": 12
          },
          "showarrow": false,
          "text": "4",
          "x": "Anime Features",
          "y": "Children & Family Movies"
         },
         {
          "font": {
           "color": "black",
           "size": 12
          },
          "showarrow": false,
          "text": "3",
          "x": "Children & Family Movies",
          "y": "Children & Family Movies"
         },
         {
          "font": {
           "color": "black",
           "size": 12
          },
          "showarrow": false,
          "text": "3",
          "x": "Comedies",
          "y": "Children & Family Movies"
         },
         {
          "font": {
           "color": "black",
           "size": 12
          },
          "showarrow": false,
          "text": "2",
          "x": "Documentaries",
          "y": "Children & Family Movies"
         },
         {
          "font": {
           "color": "black",
           "size": 12
          },
          "showarrow": false,
          "text": "1",
          "x": "Dramas",
          "y": "Children & Family Movies"
         },
         {
          "font": {
           "color": "black",
           "size": 12
          },
          "showarrow": false,
          "text": "4",
          "x": "Sports Movies",
          "y": "Children & Family Movies"
         },
         {
          "font": {
           "color": "black",
           "size": 12
          },
          "showarrow": false,
          "text": "4",
          "x": "Action & Adventure",
          "y": "Comedies"
         },
         {
          "font": {
           "color": "black",
           "size": 12
          },
          "showarrow": false,
          "text": "2",
          "x": "Anime Features",
          "y": "Comedies"
         },
         {
          "font": {
           "color": "black",
           "size": 12
          },
          "showarrow": false,
          "text": "2",
          "x": "Children & Family Movies",
          "y": "Comedies"
         },
         {
          "font": {
           "color": "black",
           "size": 12
          },
          "showarrow": false,
          "text": "47",
          "x": "Comedies",
          "y": "Comedies"
         },
         {
          "font": {
           "color": "black",
           "size": 12
          },
          "showarrow": false,
          "text": "3",
          "x": "Documentaries",
          "y": "Comedies"
         },
         {
          "font": {
           "color": "black",
           "size": 12
          },
          "showarrow": false,
          "text": "1",
          "x": "Dramas",
          "y": "Comedies"
         },
         {
          "font": {
           "color": "black",
           "size": 12
          },
          "showarrow": false,
          "text": "5",
          "x": "Sports Movies",
          "y": "Comedies"
         },
         {
          "font": {
           "color": "black",
           "size": 12
          },
          "showarrow": false,
          "text": "5",
          "x": "Action & Adventure",
          "y": "Documentaries"
         },
         {
          "font": {
           "color": "black",
           "size": 12
          },
          "showarrow": false,
          "text": "1",
          "x": "Anime Features",
          "y": "Documentaries"
         },
         {
          "font": {
           "color": "black",
           "size": 12
          },
          "showarrow": false,
          "text": "3",
          "x": "Children & Family Movies",
          "y": "Documentaries"
         },
         {
          "font": {
           "color": "black",
           "size": 12
          },
          "showarrow": false,
          "text": "3",
          "x": "Comedies",
          "y": "Documentaries"
         },
         {
          "font": {
           "color": "black",
           "size": 12
          },
          "showarrow": false,
          "text": "8",
          "x": "Documentaries",
          "y": "Documentaries"
         },
         {
          "font": {
           "color": "black",
           "size": 12
          },
          "showarrow": false,
          "text": "1",
          "x": "Dramas",
          "y": "Documentaries"
         },
         {
          "font": {
           "color": "black",
           "size": 12
          },
          "showarrow": false,
          "text": "1",
          "x": "Sports Movies",
          "y": "Documentaries"
         },
         {
          "font": {
           "color": "black",
           "size": 12
          },
          "showarrow": false,
          "text": "1",
          "x": "Children & Family Movies",
          "y": "Dramas"
         },
         {
          "font": {
           "color": "black",
           "size": 12
          },
          "showarrow": false,
          "text": "3",
          "x": "Comedies",
          "y": "Dramas"
         },
         {
          "font": {
           "color": "black",
           "size": 12
          },
          "showarrow": false,
          "text": "1",
          "x": "Dramas",
          "y": "Dramas"
         },
         {
          "font": {
           "color": "black",
           "size": 12
          },
          "showarrow": false,
          "text": "1",
          "x": "Sports Movies",
          "y": "Dramas"
         },
         {
          "font": {
           "color": "black",
           "size": 12
          },
          "showarrow": false,
          "text": "1",
          "x": "Comedies",
          "y": "Horror Movies"
         },
         {
          "font": {
           "color": "black",
           "size": 12
          },
          "showarrow": false,
          "text": "2",
          "x": "Anime Features",
          "y": "Independent Movies"
         },
         {
          "font": {
           "color": "black",
           "size": 12
          },
          "showarrow": false,
          "text": "1",
          "x": "Children & Family Movies",
          "y": "Independent Movies"
         },
         {
          "font": {
           "color": "black",
           "size": 12
          },
          "showarrow": false,
          "text": "1",
          "x": "Comedies",
          "y": "Independent Movies"
         },
         {
          "font": {
           "color": "black",
           "size": 12
          },
          "showarrow": false,
          "text": "1",
          "x": "Independent Movies",
          "y": "Independent Movies"
         },
         {
          "font": {
           "color": "black",
           "size": 12
          },
          "showarrow": false,
          "text": "1",
          "x": "Stand-Up Comedy",
          "y": "Independent Movies"
         },
         {
          "font": {
           "color": "black",
           "size": 12
          },
          "showarrow": false,
          "text": "2",
          "x": "Sports Movies",
          "y": "Movies"
         },
         {
          "font": {
           "color": "black",
           "size": 12
          },
          "showarrow": false,
          "text": "1",
          "x": "Anime Features",
          "y": "Music & Musicals"
         },
         {
          "font": {
           "color": "black",
           "size": 12
          },
          "showarrow": false,
          "text": "1",
          "x": "Anime Features",
          "y": "Romantic Movies"
         },
         {
          "font": {
           "color": "black",
           "size": 12
          },
          "showarrow": false,
          "text": "1",
          "x": "Action & Adventure",
          "y": "Sports Movies"
         },
         {
          "font": {
           "color": "black",
           "size": 12
          },
          "showarrow": false,
          "text": "2",
          "x": "Anime Features",
          "y": "Sports Movies"
         },
         {
          "font": {
           "color": "black",
           "size": 12
          },
          "showarrow": false,
          "text": "5",
          "x": "Children & Family Movies",
          "y": "Sports Movies"
         },
         {
          "font": {
           "color": "black",
           "size": 12
          },
          "showarrow": false,
          "text": "4",
          "x": "Comedies",
          "y": "Sports Movies"
         },
         {
          "font": {
           "color": "black",
           "size": 12
          },
          "showarrow": false,
          "text": "68",
          "x": "Sports Movies",
          "y": "Sports Movies"
         },
         {
          "font": {
           "color": "black",
           "size": 12
          },
          "showarrow": false,
          "text": "3",
          "x": "Action & Adventure",
          "y": "Stand-Up Comedy"
         },
         {
          "font": {
           "color": "black",
           "size": 12
          },
          "showarrow": false,
          "text": "2",
          "x": "Anime Features",
          "y": "Stand-Up Comedy"
         },
         {
          "font": {
           "color": "black",
           "size": 12
          },
          "showarrow": false,
          "text": "2",
          "x": "Documentaries",
          "y": "Stand-Up Comedy"
         },
         {
          "font": {
           "color": "black",
           "size": 12
          },
          "showarrow": false,
          "text": "1",
          "x": "Sports Movies",
          "y": "Stand-Up Comedy"
         },
         {
          "font": {
           "color": "black",
           "size": 12
          },
          "showarrow": false,
          "text": "1",
          "x": "Stand-Up Comedy",
          "y": "Stand-Up Comedy"
         }
        ],
        "font": {
         "size": 12
        },
        "height": 600,
        "hoverlabel": {
         "bgcolor": "white",
         "font": {
          "family": "Rockwell",
          "size": 12
         }
        },
        "paper_bgcolor": "rgba(0, 0, 0, 0)",
        "plot_bgcolor": "rgba(0, 0, 0, 0)",
        "template": {
         "data": {
          "bar": [
           {
            "error_x": {
             "color": "#2a3f5f"
            },
            "error_y": {
             "color": "#2a3f5f"
            },
            "marker": {
             "line": {
              "color": "#E5ECF6",
              "width": 0.5
             },
             "pattern": {
              "fillmode": "overlay",
              "size": 10,
              "solidity": 0.2
             }
            },
            "type": "bar"
           }
          ],
          "barpolar": [
           {
            "marker": {
             "line": {
              "color": "#E5ECF6",
              "width": 0.5
             },
             "pattern": {
              "fillmode": "overlay",
              "size": 10,
              "solidity": 0.2
             }
            },
            "type": "barpolar"
           }
          ],
          "carpet": [
           {
            "aaxis": {
             "endlinecolor": "#2a3f5f",
             "gridcolor": "white",
             "linecolor": "white",
             "minorgridcolor": "white",
             "startlinecolor": "#2a3f5f"
            },
            "baxis": {
             "endlinecolor": "#2a3f5f",
             "gridcolor": "white",
             "linecolor": "white",
             "minorgridcolor": "white",
             "startlinecolor": "#2a3f5f"
            },
            "type": "carpet"
           }
          ],
          "choropleth": [
           {
            "colorbar": {
             "outlinewidth": 0,
             "ticks": ""
            },
            "type": "choropleth"
           }
          ],
          "contour": [
           {
            "colorbar": {
             "outlinewidth": 0,
             "ticks": ""
            },
            "colorscale": [
             [
              0,
              "#0d0887"
             ],
             [
              0.1111111111111111,
              "#46039f"
             ],
             [
              0.2222222222222222,
              "#7201a8"
             ],
             [
              0.3333333333333333,
              "#9c179e"
             ],
             [
              0.4444444444444444,
              "#bd3786"
             ],
             [
              0.5555555555555556,
              "#d8576b"
             ],
             [
              0.6666666666666666,
              "#ed7953"
             ],
             [
              0.7777777777777778,
              "#fb9f3a"
             ],
             [
              0.8888888888888888,
              "#fdca26"
             ],
             [
              1,
              "#f0f921"
             ]
            ],
            "type": "contour"
           }
          ],
          "contourcarpet": [
           {
            "colorbar": {
             "outlinewidth": 0,
             "ticks": ""
            },
            "type": "contourcarpet"
           }
          ],
          "heatmap": [
           {
            "colorbar": {
             "outlinewidth": 0,
             "ticks": ""
            },
            "colorscale": [
             [
              0,
              "#0d0887"
             ],
             [
              0.1111111111111111,
              "#46039f"
             ],
             [
              0.2222222222222222,
              "#7201a8"
             ],
             [
              0.3333333333333333,
              "#9c179e"
             ],
             [
              0.4444444444444444,
              "#bd3786"
             ],
             [
              0.5555555555555556,
              "#d8576b"
             ],
             [
              0.6666666666666666,
              "#ed7953"
             ],
             [
              0.7777777777777778,
              "#fb9f3a"
             ],
             [
              0.8888888888888888,
              "#fdca26"
             ],
             [
              1,
              "#f0f921"
             ]
            ],
            "type": "heatmap"
           }
          ],
          "heatmapgl": [
           {
            "colorbar": {
             "outlinewidth": 0,
             "ticks": ""
            },
            "colorscale": [
             [
              0,
              "#0d0887"
             ],
             [
              0.1111111111111111,
              "#46039f"
             ],
             [
              0.2222222222222222,
              "#7201a8"
             ],
             [
              0.3333333333333333,
              "#9c179e"
             ],
             [
              0.4444444444444444,
              "#bd3786"
             ],
             [
              0.5555555555555556,
              "#d8576b"
             ],
             [
              0.6666666666666666,
              "#ed7953"
             ],
             [
              0.7777777777777778,
              "#fb9f3a"
             ],
             [
              0.8888888888888888,
              "#fdca26"
             ],
             [
              1,
              "#f0f921"
             ]
            ],
            "type": "heatmapgl"
           }
          ],
          "histogram": [
           {
            "marker": {
             "pattern": {
              "fillmode": "overlay",
              "size": 10,
              "solidity": 0.2
             }
            },
            "type": "histogram"
           }
          ],
          "histogram2d": [
           {
            "colorbar": {
             "outlinewidth": 0,
             "ticks": ""
            },
            "colorscale": [
             [
              0,
              "#0d0887"
             ],
             [
              0.1111111111111111,
              "#46039f"
             ],
             [
              0.2222222222222222,
              "#7201a8"
             ],
             [
              0.3333333333333333,
              "#9c179e"
             ],
             [
              0.4444444444444444,
              "#bd3786"
             ],
             [
              0.5555555555555556,
              "#d8576b"
             ],
             [
              0.6666666666666666,
              "#ed7953"
             ],
             [
              0.7777777777777778,
              "#fb9f3a"
             ],
             [
              0.8888888888888888,
              "#fdca26"
             ],
             [
              1,
              "#f0f921"
             ]
            ],
            "type": "histogram2d"
           }
          ],
          "histogram2dcontour": [
           {
            "colorbar": {
             "outlinewidth": 0,
             "ticks": ""
            },
            "colorscale": [
             [
              0,
              "#0d0887"
             ],
             [
              0.1111111111111111,
              "#46039f"
             ],
             [
              0.2222222222222222,
              "#7201a8"
             ],
             [
              0.3333333333333333,
              "#9c179e"
             ],
             [
              0.4444444444444444,
              "#bd3786"
             ],
             [
              0.5555555555555556,
              "#d8576b"
             ],
             [
              0.6666666666666666,
              "#ed7953"
             ],
             [
              0.7777777777777778,
              "#fb9f3a"
             ],
             [
              0.8888888888888888,
              "#fdca26"
             ],
             [
              1,
              "#f0f921"
             ]
            ],
            "type": "histogram2dcontour"
           }
          ],
          "mesh3d": [
           {
            "colorbar": {
             "outlinewidth": 0,
             "ticks": ""
            },
            "type": "mesh3d"
           }
          ],
          "parcoords": [
           {
            "line": {
             "colorbar": {
              "outlinewidth": 0,
              "ticks": ""
             }
            },
            "type": "parcoords"
           }
          ],
          "pie": [
           {
            "automargin": true,
            "type": "pie"
           }
          ],
          "scatter": [
           {
            "fillpattern": {
             "fillmode": "overlay",
             "size": 10,
             "solidity": 0.2
            },
            "type": "scatter"
           }
          ],
          "scatter3d": [
           {
            "line": {
             "colorbar": {
              "outlinewidth": 0,
              "ticks": ""
             }
            },
            "marker": {
             "colorbar": {
              "outlinewidth": 0,
              "ticks": ""
             }
            },
            "type": "scatter3d"
           }
          ],
          "scattercarpet": [
           {
            "marker": {
             "colorbar": {
              "outlinewidth": 0,
              "ticks": ""
             }
            },
            "type": "scattercarpet"
           }
          ],
          "scattergeo": [
           {
            "marker": {
             "colorbar": {
              "outlinewidth": 0,
              "ticks": ""
             }
            },
            "type": "scattergeo"
           }
          ],
          "scattergl": [
           {
            "marker": {
             "colorbar": {
              "outlinewidth": 0,
              "ticks": ""
             }
            },
            "type": "scattergl"
           }
          ],
          "scattermapbox": [
           {
            "marker": {
             "colorbar": {
              "outlinewidth": 0,
              "ticks": ""
             }
            },
            "type": "scattermapbox"
           }
          ],
          "scatterpolar": [
           {
            "marker": {
             "colorbar": {
              "outlinewidth": 0,
              "ticks": ""
             }
            },
            "type": "scatterpolar"
           }
          ],
          "scatterpolargl": [
           {
            "marker": {
             "colorbar": {
              "outlinewidth": 0,
              "ticks": ""
             }
            },
            "type": "scatterpolargl"
           }
          ],
          "scatterternary": [
           {
            "marker": {
             "colorbar": {
              "outlinewidth": 0,
              "ticks": ""
             }
            },
            "type": "scatterternary"
           }
          ],
          "surface": [
           {
            "colorbar": {
             "outlinewidth": 0,
             "ticks": ""
            },
            "colorscale": [
             [
              0,
              "#0d0887"
             ],
             [
              0.1111111111111111,
              "#46039f"
             ],
             [
              0.2222222222222222,
              "#7201a8"
             ],
             [
              0.3333333333333333,
              "#9c179e"
             ],
             [
              0.4444444444444444,
              "#bd3786"
             ],
             [
              0.5555555555555556,
              "#d8576b"
             ],
             [
              0.6666666666666666,
              "#ed7953"
             ],
             [
              0.7777777777777778,
              "#fb9f3a"
             ],
             [
              0.8888888888888888,
              "#fdca26"
             ],
             [
              1,
              "#f0f921"
             ]
            ],
            "type": "surface"
           }
          ],
          "table": [
           {
            "cells": {
             "fill": {
              "color": "#EBF0F8"
             },
             "line": {
              "color": "white"
             }
            },
            "header": {
             "fill": {
              "color": "#C8D4E3"
             },
             "line": {
              "color": "white"
             }
            },
            "type": "table"
           }
          ]
         },
         "layout": {
          "annotationdefaults": {
           "arrowcolor": "#2a3f5f",
           "arrowhead": 0,
           "arrowwidth": 1
          },
          "autotypenumbers": "strict",
          "coloraxis": {
           "colorbar": {
            "outlinewidth": 0,
            "ticks": ""
           }
          },
          "colorscale": {
           "diverging": [
            [
             0,
             "#8e0152"
            ],
            [
             0.1,
             "#c51b7d"
            ],
            [
             0.2,
             "#de77ae"
            ],
            [
             0.3,
             "#f1b6da"
            ],
            [
             0.4,
             "#fde0ef"
            ],
            [
             0.5,
             "#f7f7f7"
            ],
            [
             0.6,
             "#e6f5d0"
            ],
            [
             0.7,
             "#b8e186"
            ],
            [
             0.8,
             "#7fbc41"
            ],
            [
             0.9,
             "#4d9221"
            ],
            [
             1,
             "#276419"
            ]
           ],
           "sequential": [
            [
             0,
             "#0d0887"
            ],
            [
             0.1111111111111111,
             "#46039f"
            ],
            [
             0.2222222222222222,
             "#7201a8"
            ],
            [
             0.3333333333333333,
             "#9c179e"
            ],
            [
             0.4444444444444444,
             "#bd3786"
            ],
            [
             0.5555555555555556,
             "#d8576b"
            ],
            [
             0.6666666666666666,
             "#ed7953"
            ],
            [
             0.7777777777777778,
             "#fb9f3a"
            ],
            [
             0.8888888888888888,
             "#fdca26"
            ],
            [
             1,
             "#f0f921"
            ]
           ],
           "sequentialminus": [
            [
             0,
             "#0d0887"
            ],
            [
             0.1111111111111111,
             "#46039f"
            ],
            [
             0.2222222222222222,
             "#7201a8"
            ],
            [
             0.3333333333333333,
             "#9c179e"
            ],
            [
             0.4444444444444444,
             "#bd3786"
            ],
            [
             0.5555555555555556,
             "#d8576b"
            ],
            [
             0.6666666666666666,
             "#ed7953"
            ],
            [
             0.7777777777777778,
             "#fb9f3a"
            ],
            [
             0.8888888888888888,
             "#fdca26"
            ],
            [
             1,
             "#f0f921"
            ]
           ]
          },
          "colorway": [
           "#636efa",
           "#EF553B",
           "#00cc96",
           "#ab63fa",
           "#FFA15A",
           "#19d3f3",
           "#FF6692",
           "#B6E880",
           "#FF97FF",
           "#FECB52"
          ],
          "font": {
           "color": "#2a3f5f"
          },
          "geo": {
           "bgcolor": "white",
           "lakecolor": "white",
           "landcolor": "#E5ECF6",
           "showlakes": true,
           "showland": true,
           "subunitcolor": "white"
          },
          "hoverlabel": {
           "align": "left"
          },
          "hovermode": "closest",
          "mapbox": {
           "style": "light"
          },
          "paper_bgcolor": "white",
          "plot_bgcolor": "#E5ECF6",
          "polar": {
           "angularaxis": {
            "gridcolor": "white",
            "linecolor": "white",
            "ticks": ""
           },
           "bgcolor": "#E5ECF6",
           "radialaxis": {
            "gridcolor": "white",
            "linecolor": "white",
            "ticks": ""
           }
          },
          "scene": {
           "xaxis": {
            "backgroundcolor": "#E5ECF6",
            "gridcolor": "white",
            "gridwidth": 2,
            "linecolor": "white",
            "showbackground": true,
            "ticks": "",
            "zerolinecolor": "white"
           },
           "yaxis": {
            "backgroundcolor": "#E5ECF6",
            "gridcolor": "white",
            "gridwidth": 2,
            "linecolor": "white",
            "showbackground": true,
            "ticks": "",
            "zerolinecolor": "white"
           },
           "zaxis": {
            "backgroundcolor": "#E5ECF6",
            "gridcolor": "white",
            "gridwidth": 2,
            "linecolor": "white",
            "showbackground": true,
            "ticks": "",
            "zerolinecolor": "white"
           }
          },
          "shapedefaults": {
           "line": {
            "color": "#2a3f5f"
           }
          },
          "ternary": {
           "aaxis": {
            "gridcolor": "white",
            "linecolor": "white",
            "ticks": ""
           },
           "baxis": {
            "gridcolor": "white",
            "linecolor": "white",
            "ticks": ""
           },
           "bgcolor": "#E5ECF6",
           "caxis": {
            "gridcolor": "white",
            "linecolor": "white",
            "ticks": ""
           }
          },
          "title": {
           "x": 0.05
          },
          "xaxis": {
           "automargin": true,
           "gridcolor": "white",
           "linecolor": "white",
           "ticks": "",
           "title": {
            "standoff": 15
           },
           "zerolinecolor": "white",
           "zerolinewidth": 2
          },
          "yaxis": {
           "automargin": true,
           "gridcolor": "white",
           "linecolor": "white",
           "ticks": "",
           "title": {
            "standoff": 15
           },
           "zerolinecolor": "white",
           "zerolinewidth": 2
          }
         }
        },
        "title": {
         "text": "Matriz de Confusão"
        },
        "width": 800,
        "xaxis": {
         "automargin": true,
         "autorange": true,
         "range": [
          -0.5,
          13.5
         ],
         "title": {
          "text": "Gênero Previsto"
         },
         "type": "category"
        },
        "yaxis": {
         "automargin": true,
         "autorange": true,
         "range": [
          -0.5,
          13.5
         ],
         "title": {
          "text": "Gênero Verdadeiro"
         },
         "type": "category"
        }
       }
      },
      "image/png": "[encoded data removed]",
      "text/html": [
       "<div>                            <div id=\"cc489d5f-b849-47dc-a477-986bd81184dc\" class=\"plotly-graph-div\" style=\"height:600px; width:800px;\"></div>            <script type=\"text/javascript\">                require([\"plotly\"], function(Plotly) {                    window.PLOTLYENV=window.PLOTLYENV || {};                                    if (document.getElementById(\"cc489d5f-b849-47dc-a477-986bd81184dc\")) {                    Plotly.newPlot(                        \"cc489d5f-b849-47dc-a477-986bd81184dc\",                        [{\"colorbar\":{\"title\":{\"text\":\"Contagem\"}},\"colorscale\":[[0.0,\"rgb(247,251,255)\"],[0.125,\"rgb(222,235,247)\"],[0.25,\"rgb(198,219,239)\"],[0.375,\"rgb(158,202,225)\"],[0.5,\"rgb(107,174,214)\"],[0.625,\"rgb(66,146,198)\"],[0.75,\"rgb(33,113,181)\"],[0.875,\"rgb(8,81,156)\"],[1.0,\"rgb(8,48,107)\"]],\"hoverongaps\":false,\"x\":[\"Action & Adventure\",\"Anime Features\",\"Children & Family Movies\",\"Comedies\",\"Documentaries\",\"Dramas\",\"Horror Movies\",\"Independent Movies\",\"Movies\",\"Music & Musicals\",\"Romantic Movies\",\"Sports Movies\",\"Stand-Up Comedy\",\"Thrillers\"],\"y\":[\"Action & Adventure\",\"Anime Features\",\"Children & Family Movies\",\"Comedies\",\"Documentaries\",\"Dramas\",\"Horror Movies\",\"Independent Movies\",\"Movies\",\"Music & Musicals\",\"Romantic Movies\",\"Sports Movies\",\"Stand-Up Comedy\",\"Thrillers\"],\"z\":[[18,2,3,1,0,1,0,0,0,0,0,0,0],[5,17,1,3,1,0,0,0,0,0,0,0,0],[4,4,3,3,2,1,0,0,0,0,0,4,0],[4,2,2,47,3,1,0,0,0,0,0,5,0],[5,1,3,3,8,1,0,0,0,0,0,1,0],[0,0,1,3,0,1,0,0,0,0,0,1,0],[0,0,0,1,0,0,0,0,0,0,0,0,0],[0,2,1,1,0,0,0,1,0,0,0,0,1],[0,0,0,0,0,0,0,0,0,0,0,2,0],[0,1,0,0,0,0,0,0,0,0,0,0,0],[0,1,0,0,0,0,0,0,0,0,0,0,0],[1,2,5,4,0,0,0,0,0,0,0,68,0],[3,2,0,0,2,0,0,0,0,0,0,1,1]],\"type\":\"heatmap\"}],                        {\"template\":{\"data\":{\"histogram2dcontour\":[{\"type\":\"histogram2dcontour\",\"colorbar\":{\"outlinewidth\":0,\"ticks\":\"\"},\"colorscale\":[[0.0,\"#0d0887\"],[0.1111111111111111,\"#46039f\"],[0.2222222222222222,\"#7201a8\"],[0.3333333333333333,\"#9c179e\"],[0.4444444444444444,\"#bd3786\"],[0.5555555555555556,\"#d8576b\"],[0.6666666666666666,\"#ed7953\"],[0.7777777777777778,\"#fb9f3a\"],[0.8888888888888888,\"#fdca26\"],[1.0,\"#f0f921\"]]}],\"choropleth\":[{\"type\":\"choropleth\",\"colorbar\":{\"outlinewidth\":0,\"ticks\":\"\"}}],\"histogram2d\":[{\"type\":\"histogram2d\",\"colorbar\":{\"outlinewidth\":0,\"ticks\":\"\"},\"colorscale\":[[0.0,\"#0d0887\"],[0.1111111111111111,\"#46039f\"],[0.2222222222222222,\"#7201a8\"],[0.3333333333333333,\"#9c179e\"],[0.4444444444444444,\"#bd3786\"],[0.5555555555555556,\"#d8576b\"],[0.6666666666666666,\"#ed7953\"],[0.7777777777777778,\"#fb9f3a\"],[0.8888888888888888,\"#fdca26\"],[1.0,\"#f0f921\"]]}],\"heatmap\":[{\"type\":\"heatmap\",\"colorbar\":{\"outlinewidth\":0,\"ticks\":\"\"},\"colorscale\":[[0.0,\"#0d0887\"],[0.1111111111111111,\"#46039f\"],[0.2222222222222222,\"#7201a8\"],[0.3333333333333333,\"#9c179e\"],[0.4444444444444444,\"#bd3786\"],[0.5555555555555556,\"#d8576b\"],[0.6666666666666666,\"#ed7953\"],[0.7777777777777778,\"#fb9f3a\"],[0.8888888888888888,\"#fdca26\"],[1.0,\"#f0f921\"]]}],\"heatmapgl\":[{\"type\":\"heatmapgl\",\"colorbar\":{\"outlinewidth\":0,\"ticks\":\"\"},\"colorscale\":[[0.0,\"#0d0887\"],[0.1111111111111111,\"#46039f\"],[0.2222222222222222,\"#7201a8\"],[0.3333333333333333,\"#9c179e\"],[0.4444444444444444,\"#bd3786\"],[0.5555555555555556,\"#d8576b\"],[0.6666666666666666,\"#ed7953\"],[0.7777777777777778,\"#fb9f3a\"],[0.8888888888888888,\"#fdca26\"],[1.0,\"#f0f921\"]]}],\"contourcarpet\":[{\"type\":\"contourcarpet\",\"colorbar\":{\"outlinewidth\":0,\"ticks\":\"\"}}],\"contour\":[{\"type\":\"contour\",\"colorbar\":{\"outlinewidth\":0,\"ticks\":\"\"},\"colorscale\":[[0.0,\"#0d0887\"],[0.1111111111111111,\"#46039f\"],[0.2222222222222222,\"#7201a8\"],[0.3333333333333333,\"#9c179e\"],[0.4444444444444444,\"#bd3786\"],[0.5555555555555556,\"#d8576b\"],[0.6666666666666666,\"#ed7953\"],[0.7777777777777778,\"#fb9f3a\"],[0.8888888888888888,\"#fdca26\"],[1.0,\"#f0f921\"]]}],\"surface\":[{\"type\":\"surface\",\"colorbar\":{\"outlinewidth\":0,\"ticks\":\"\"},\"colorscale\":[[0.0,\"#0d0887\"],[0.1111111111111111,\"#46039f\"],[0.2222222222222222,\"#7201a8\"],[0.3333333333333333,\"#9c179e\"],[0.4444444444444444,\"#bd3786\"],[0.5555555555555556,\"#d8576b\"],[0.6666666666666666,\"#ed7953\"],[0.7777777777777778,\"#fb9f3a\"],[0.8888888888888888,\"#fdca26\"],[1.0,\"#f0f921\"]]}],\"mesh3d\":[{\"type\":\"mesh3d\",\"colorbar\":{\"outlinewidth\":0,\"ticks\":\"\"}}],\"scatter\":[{\"fillpattern\":{\"fillmode\":\"overlay\",\"size\":10,\"solidity\":0.2},\"type\":\"scatter\"}],\"parcoords\":[{\"type\":\"parcoords\",\"line\":{\"colorbar\":{\"outlinewidth\":0,\"ticks\":\"\"}}}],\"scatterpolargl\":[{\"type\":\"scatterpolargl\",\"marker\":{\"colorbar\":{\"outlinewidth\":0,\"ticks\":\"\"}}}],\"bar\":[{\"error_x\":{\"color\":\"#2a3f5f\"},\"error_y\":{\"color\":\"#2a3f5f\"},\"marker\":{\"line\":{\"color\":\"#E5ECF6\",\"width\":0.5},\"pattern\":{\"fillmode\":\"overlay\",\"size\":10,\"solidity\":0.2}},\"type\":\"bar\"}],\"scattergeo\":[{\"type\":\"scattergeo\",\"marker\":{\"colorbar\":{\"outlinewidth\":0,\"ticks\":\"\"}}}],\"scatterpolar\":[{\"type\":\"scatterpolar\",\"marker\":{\"colorbar\":{\"outlinewidth\":0,\"ticks\":\"\"}}}],\"histogram\":[{\"marker\":{\"pattern\":{\"fillmode\":\"overlay\",\"size\":10,\"solidity\":0.2}},\"type\":\"histogram\"}],\"scattergl\":[{\"type\":\"scattergl\",\"marker\":{\"colorbar\":{\"outlinewidth\":0,\"ticks\":\"\"}}}],\"scatter3d\":[{\"type\":\"scatter3d\",\"line\":{\"colorbar\":{\"outlinewidth\":0,\"ticks\":\"\"}},\"marker\":{\"colorbar\":{\"outlinewidth\":0,\"ticks\":\"\"}}}],\"scattermapbox\":[{\"type\":\"scattermapbox\",\"marker\":{\"colorbar\":{\"outlinewidth\":0,\"ticks\":\"\"}}}],\"scatterternary\":[{\"type\":\"scatterternary\",\"marker\":{\"colorbar\":{\"outlinewidth\":0,\"ticks\":\"\"}}}],\"scattercarpet\":[{\"type\":\"scattercarpet\",\"marker\":{\"colorbar\":{\"outlinewidth\":0,\"ticks\":\"\"}}}],\"carpet\":[{\"aaxis\":{\"endlinecolor\":\"#2a3f5f\",\"gridcolor\":\"white\",\"linecolor\":\"white\",\"minorgridcolor\":\"white\",\"startlinecolor\":\"#2a3f5f\"},\"baxis\":{\"endlinecolor\":\"#2a3f5f\",\"gridcolor\":\"white\",\"linecolor\":\"white\",\"minorgridcolor\":\"white\",\"startlinecolor\":\"#2a3f5f\"},\"type\":\"carpet\"}],\"table\":[{\"cells\":{\"fill\":{\"color\":\"#EBF0F8\"},\"line\":{\"color\":\"white\"}},\"header\":{\"fill\":{\"color\":\"#C8D4E3\"},\"line\":{\"color\":\"white\"}},\"type\":\"table\"}],\"barpolar\":[{\"marker\":{\"line\":{\"color\":\"#E5ECF6\",\"width\":0.5},\"pattern\":{\"fillmode\":\"overlay\",\"size\":10,\"solidity\":0.2}},\"type\":\"barpolar\"}],\"pie\":[{\"automargin\":true,\"type\":\"pie\"}]},\"layout\":{\"autotypenumbers\":\"strict\",\"colorway\":[\"#636efa\",\"#EF553B\",\"#00cc96\",\"#ab63fa\",\"#FFA15A\",\"#19d3f3\",\"#FF6692\",\"#B6E880\",\"#FF97FF\",\"#FECB52\"],\"font\":{\"color\":\"#2a3f5f\"},\"hovermode\":\"closest\",\"hoverlabel\":{\"align\":\"left\"},\"paper_bgcolor\":\"white\",\"plot_bgcolor\":\"#E5ECF6\",\"polar\":{\"bgcolor\":\"#E5ECF6\",\"angularaxis\":{\"gridcolor\":\"white\",\"linecolor\":\"white\",\"ticks\":\"\"},\"radialaxis\":{\"gridcolor\":\"white\",\"linecolor\":\"white\",\"ticks\":\"\"}},\"ternary\":{\"bgcolor\":\"#E5ECF6\",\"aaxis\":{\"gridcolor\":\"white\",\"linecolor\":\"white\",\"ticks\":\"\"},\"baxis\":{\"gridcolor\":\"white\",\"linecolor\":\"white\",\"ticks\":\"\"},\"caxis\":{\"gridcolor\":\"white\",\"linecolor\":\"white\",\"ticks\":\"\"}},\"coloraxis\":{\"colorbar\":{\"outlinewidth\":0,\"ticks\":\"\"}},\"colorscale\":{\"sequential\":[[0.0,\"#0d0887\"],[0.1111111111111111,\"#46039f\"],[0.2222222222222222,\"#7201a8\"],[0.3333333333333333,\"#9c179e\"],[0.4444444444444444,\"#bd3786\"],[0.5555555555555556,\"#d8576b\"],[0.6666666666666666,\"#ed7953\"],[0.7777777777777778,\"#fb9f3a\"],[0.8888888888888888,\"#fdca26\"],[1.0,\"#f0f921\"]],\"sequentialminus\":[[0.0,\"#0d0887\"],[0.1111111111111111,\"#46039f\"],[0.2222222222222222,\"#7201a8\"],[0.3333333333333333,\"#9c179e\"],[0.4444444444444444,\"#bd3786\"],[0.5555555555555556,\"#d8576b\"],[0.6666666666666666,\"#ed7953\"],[0.7777777777777778,\"#fb9f3a\"],[0.8888888888888888,\"#fdca26\"],[1.0,\"#f0f921\"]],\"diverging\":[[0,\"#8e0152\"],[0.1,\"#c51b7d\"],[0.2,\"#de77ae\"],[0.3,\"#f1b6da\"],[0.4,\"#fde0ef\"],[0.5,\"#f7f7f7\"],[0.6,\"#e6f5d0\"],[0.7,\"#b8e186\"],[0.8,\"#7fbc41\"],[0.9,\"#4d9221\"],[1,\"#276419\"]]},\"xaxis\":{\"gridcolor\":\"white\",\"linecolor\":\"white\",\"ticks\":\"\",\"title\":{\"standoff\":15},\"zerolinecolor\":\"white\",\"automargin\":true,\"zerolinewidth\":2},\"yaxis\":{\"gridcolor\":\"white\",\"linecolor\":\"white\",\"ticks\":\"\",\"title\":{\"standoff\":15},\"zerolinecolor\":\"white\",\"automargin\":true,\"zerolinewidth\":2},\"scene\":{\"xaxis\":{\"backgroundcolor\":\"#E5ECF6\",\"gridcolor\":\"white\",\"linecolor\":\"white\",\"showbackground\":true,\"ticks\":\"\",\"zerolinecolor\":\"white\",\"gridwidth\":2},\"yaxis\":{\"backgroundcolor\":\"#E5ECF6\",\"gridcolor\":\"white\",\"linecolor\":\"white\",\"showbackground\":true,\"ticks\":\"\",\"zerolinecolor\":\"white\",\"gridwidth\":2},\"zaxis\":{\"backgroundcolor\":\"#E5ECF6\",\"gridcolor\":\"white\",\"linecolor\":\"white\",\"showbackground\":true,\"ticks\":\"\",\"zerolinecolor\":\"white\",\"gridwidth\":2}},\"shapedefaults\":{\"line\":{\"color\":\"#2a3f5f\"}},\"annotationdefaults\":{\"arrowcolor\":\"#2a3f5f\",\"arrowhead\":0,\"arrowwidth\":1},\"geo\":{\"bgcolor\":\"white\",\"landcolor\":\"#E5ECF6\",\"subunitcolor\":\"white\",\"showland\":true,\"showlakes\":true,\"lakecolor\":\"white\"},\"title\":{\"x\":0.05},\"mapbox\":{\"style\":\"light\"}}},\"xaxis\":{\"title\":{\"text\":\"G\\u00eanero Previsto\"},\"automargin\":true},\"yaxis\":{\"title\":{\"text\":\"G\\u00eanero Verdadeiro\"},\"automargin\":true},\"font\":{\"size\":12},\"hoverlabel\":{\"font\":{\"size\":12,\"family\":\"Rockwell\"},\"bgcolor\":\"white\"},\"title\":{\"text\":\"Matriz de Confus\\u00e3o\"},\"width\":800,\"height\":600,\"plot_bgcolor\":\"rgba(0, 0, 0, 0)\",\"paper_bgcolor\":\"rgba(0, 0, 0, 0)\",\"annotations\":[{\"font\":{\"color\":\"black\",\"size\":12},\"showarrow\":false,\"text\":\"18\",\"x\":\"Action & Adventure\",\"y\":\"Action & Adventure\"},{\"font\":{\"color\":\"black\",\"size\":12},\"showarrow\":false,\"text\":\"2\",\"x\":\"Anime Features\",\"y\":\"Action & Adventure\"},{\"font\":{\"color\":\"black\",\"size\":12},\"showarrow\":false,\"text\":\"3\",\"x\":\"Children & Family Movies\",\"y\":\"Action & Adventure\"},{\"font\":{\"color\":\"black\",\"size\":12},\"showarrow\":false,\"text\":\"1\",\"x\":\"Comedies\",\"y\":\"Action & Adventure\"},{\"font\":{\"color\":\"black\",\"size\":12},\"showarrow\":false,\"text\":\"1\",\"x\":\"Dramas\",\"y\":\"Action & Adventure\"},{\"font\":{\"color\":\"black\",\"size\":12},\"showarrow\":false,\"text\":\"5\",\"x\":\"Action & Adventure\",\"y\":\"Anime Features\"},{\"font\":{\"color\":\"black\",\"size\":12},\"showarrow\":false,\"text\":\"17\",\"x\":\"Anime Features\",\"y\":\"Anime Features\"},{\"font\":{\"color\":\"black\",\"size\":12},\"showarrow\":false,\"text\":\"1\",\"x\":\"Children & Family Movies\",\"y\":\"Anime Features\"},{\"font\":{\"color\":\"black\",\"size\":12},\"showarrow\":false,\"text\":\"3\",\"x\":\"Comedies\",\"y\":\"Anime Features\"},{\"font\":{\"color\":\"black\",\"size\":12},\"showarrow\":false,\"text\":\"1\",\"x\":\"Documentaries\",\"y\":\"Anime Features\"},{\"font\":{\"color\":\"black\",\"size\":12},\"showarrow\":false,\"text\":\"4\",\"x\":\"Action & Adventure\",\"y\":\"Children & Family Movies\"},{\"font\":{\"color\":\"black\",\"size\":12},\"showarrow\":false,\"text\":\"4\",\"x\":\"Anime Features\",\"y\":\"Children & Family Movies\"},{\"font\":{\"color\":\"black\",\"size\":12},\"showarrow\":false,\"text\":\"3\",\"x\":\"Children & Family Movies\",\"y\":\"Children & Family Movies\"},{\"font\":{\"color\":\"black\",\"size\":12},\"showarrow\":false,\"text\":\"3\",\"x\":\"Comedies\",\"y\":\"Children & Family Movies\"},{\"font\":{\"color\":\"black\",\"size\":12},\"showarrow\":false,\"text\":\"2\",\"x\":\"Documentaries\",\"y\":\"Children & Family Movies\"},{\"font\":{\"color\":\"black\",\"size\":12},\"showarrow\":false,\"text\":\"1\",\"x\":\"Dramas\",\"y\":\"Children & Family Movies\"},{\"font\":{\"color\":\"black\",\"size\":12},\"showarrow\":false,\"text\":\"4\",\"x\":\"Sports Movies\",\"y\":\"Children & Family Movies\"},{\"font\":{\"color\":\"black\",\"size\":12},\"showarrow\":false,\"text\":\"4\",\"x\":\"Action & Adventure\",\"y\":\"Comedies\"},{\"font\":{\"color\":\"black\",\"size\":12},\"showarrow\":false,\"text\":\"2\",\"x\":\"Anime Features\",\"y\":\"Comedies\"},{\"font\":{\"color\":\"black\",\"size\":12},\"showarrow\":false,\"text\":\"2\",\"x\":\"Children & Family Movies\",\"y\":\"Comedies\"},{\"font\":{\"color\":\"black\",\"size\":12},\"showarrow\":false,\"text\":\"47\",\"x\":\"Comedies\",\"y\":\"Comedies\"},{\"font\":{\"color\":\"black\",\"size\":12},\"showarrow\":false,\"text\":\"3\",\"x\":\"Documentaries\",\"y\":\"Comedies\"},{\"font\":{\"color\":\"black\",\"size\":12},\"showarrow\":false,\"text\":\"1\",\"x\":\"Dramas\",\"y\":\"Comedies\"},{\"font\":{\"color\":\"black\",\"size\":12},\"showarrow\":false,\"text\":\"5\",\"x\":\"Sports Movies\",\"y\":\"Comedies\"},{\"font\":{\"color\":\"black\",\"size\":12},\"showarrow\":false,\"text\":\"5\",\"x\":\"Action & Adventure\",\"y\":\"Documentaries\"},{\"font\":{\"color\":\"black\",\"size\":12},\"showarrow\":false,\"text\":\"1\",\"x\":\"Anime Features\",\"y\":\"Documentaries\"},{\"font\":{\"color\":\"black\",\"size\":12},\"showarrow\":false,\"text\":\"3\",\"x\":\"Children & Family Movies\",\"y\":\"Documentaries\"},{\"font\":{\"color\":\"black\",\"size\":12},\"showarrow\":false,\"text\":\"3\",\"x\":\"Comedies\",\"y\":\"Documentaries\"},{\"font\":{\"color\":\"black\",\"size\":12},\"showarrow\":false,\"text\":\"8\",\"x\":\"Documentaries\",\"y\":\"Documentaries\"},{\"font\":{\"color\":\"black\",\"size\":12},\"showarrow\":false,\"text\":\"1\",\"x\":\"Dramas\",\"y\":\"Documentaries\"},{\"font\":{\"color\":\"black\",\"size\":12},\"showarrow\":false,\"text\":\"1\",\"x\":\"Sports Movies\",\"y\":\"Documentaries\"},{\"font\":{\"color\":\"black\",\"size\":12},\"showarrow\":false,\"text\":\"1\",\"x\":\"Children & Family Movies\",\"y\":\"Dramas\"},{\"font\":{\"color\":\"black\",\"size\":12},\"showarrow\":false,\"text\":\"3\",\"x\":\"Comedies\",\"y\":\"Dramas\"},{\"font\":{\"color\":\"black\",\"size\":12},\"showarrow\":false,\"text\":\"1\",\"x\":\"Dramas\",\"y\":\"Dramas\"},{\"font\":{\"color\":\"black\",\"size\":12},\"showarrow\":false,\"text\":\"1\",\"x\":\"Sports Movies\",\"y\":\"Dramas\"},{\"font\":{\"color\":\"black\",\"size\":12},\"showarrow\":false,\"text\":\"1\",\"x\":\"Comedies\",\"y\":\"Horror Movies\"},{\"font\":{\"color\":\"black\",\"size\":12},\"showarrow\":false,\"text\":\"2\",\"x\":\"Anime Features\",\"y\":\"Independent Movies\"},{\"font\":{\"color\":\"black\",\"size\":12},\"showarrow\":false,\"text\":\"1\",\"x\":\"Children & Family Movies\",\"y\":\"Independent Movies\"},{\"font\":{\"color\":\"black\",\"size\":12},\"showarrow\":false,\"text\":\"1\",\"x\":\"Comedies\",\"y\":\"Independent Movies\"},{\"font\":{\"color\":\"black\",\"size\":12},\"showarrow\":false,\"text\":\"1\",\"x\":\"Independent Movies\",\"y\":\"Independent Movies\"},{\"font\":{\"color\":\"black\",\"size\":12},\"showarrow\":false,\"text\":\"1\",\"x\":\"Stand-Up Comedy\",\"y\":\"Independent Movies\"},{\"font\":{\"color\":\"black\",\"size\":12},\"showarrow\":false,\"text\":\"2\",\"x\":\"Sports Movies\",\"y\":\"Movies\"},{\"font\":{\"color\":\"black\",\"size\":12},\"showarrow\":false,\"text\":\"1\",\"x\":\"Anime Features\",\"y\":\"Music & Musicals\"},{\"font\":{\"color\":\"black\",\"size\":12},\"showarrow\":false,\"text\":\"1\",\"x\":\"Anime Features\",\"y\":\"Romantic Movies\"},{\"font\":{\"color\":\"black\",\"size\":12},\"showarrow\":false,\"text\":\"1\",\"x\":\"Action & Adventure\",\"y\":\"Sports Movies\"},{\"font\":{\"color\":\"black\",\"size\":12},\"showarrow\":false,\"text\":\"2\",\"x\":\"Anime Features\",\"y\":\"Sports Movies\"},{\"font\":{\"color\":\"black\",\"size\":12},\"showarrow\":false,\"text\":\"5\",\"x\":\"Children & Family Movies\",\"y\":\"Sports Movies\"},{\"font\":{\"color\":\"black\",\"size\":12},\"showarrow\":false,\"text\":\"4\",\"x\":\"Comedies\",\"y\":\"Sports Movies\"},{\"font\":{\"color\":\"black\",\"size\":12},\"showarrow\":false,\"text\":\"68\",\"x\":\"Sports Movies\",\"y\":\"Sports Movies\"},{\"font\":{\"color\":\"black\",\"size\":12},\"showarrow\":false,\"text\":\"3\",\"x\":\"Action & Adventure\",\"y\":\"Stand-Up Comedy\"},{\"font\":{\"color\":\"black\",\"size\":12},\"showarrow\":false,\"text\":\"2\",\"x\":\"Anime Features\",\"y\":\"Stand-Up Comedy\"},{\"font\":{\"color\":\"black\",\"size\":12},\"showarrow\":false,\"text\":\"2\",\"x\":\"Documentaries\",\"y\":\"Stand-Up Comedy\"},{\"font\":{\"color\":\"black\",\"size\":12},\"showarrow\":false,\"text\":\"1\",\"x\":\"Sports Movies\",\"y\":\"Stand-Up Comedy\"},{\"font\":{\"color\":\"black\",\"size\":12},\"showarrow\":false,\"text\":\"1\",\"x\":\"Stand-Up Comedy\",\"y\":\"Stand-Up Comedy\"}]},                        {\"responsive\": true}                    ).then(function(){\n",
       "                            \n",
       "var gd = document.getElementById('cc489d5f-b849-47dc-a477-986bd81184dc');\n",
       "var x = new MutationObserver(function (mutations, observer) {{\n",
       "        var display = window.getComputedStyle(gd).display;\n",
       "        if (!display || display === 'none') {{\n",
       "            console.log([gd, 'removed!']);\n",
       "            Plotly.purge(gd);\n",
       "            observer.disconnect();\n",
       "        }}\n",
       "}});\n",
       "\n",
       "// Listen for the removal of the full notebook cells\n",
       "var notebookContainer = gd.closest('#notebook-container');\n",
       "if (notebookContainer) {{\n",
       "    x.observe(notebookContainer, {childList: true});\n",
       "}}\n",
       "\n",
       "// Listen for the clearing of the current output cell\n",
       "var outputEl = gd.closest('.output');\n",
       "if (outputEl) {{\n",
       "    x.observe(outputEl, {childList: true});\n",
       "}}\n",
       "\n",
       "                        })                };                });            </script>        </div>"
      ]
     },
     "metadata": {},
     "output_type": "display_data"
    }
   ],
   "source": [
    "import pandas as pd\n",
    "from sklearn.model_selection import train_test_split\n",
    "from sklearn.neighbors import KNeighborsClassifier\n",
    "from sklearn.metrics import accuracy_score, confusion_matrix\n",
    "import plotly.graph_objects as go\n",
    "\n",
    "# Carregar os dados dos filmes\n",
    "df = pd.read_csv(\"dados.csv\")\n",
    "\n",
    "# Filtrar filmes com gênero único\n",
    "df = df[df['Genero'].apply(lambda x: len(x.split(',')) == 1)]\n",
    "\n",
    "# Dividir os dados em conjunto de treinamento e teste\n",
    "X = df.drop('Genero', axis=1)\n",
    "y = df['Genero']\n",
    "X_train, X_test, y_train, y_test = train_test_split(X, y, test_size=0.2, random_state=42)\n",
    "\n",
    "# Vetorizar a sinopse usando TF-IDF\n",
    "from sklearn.feature_extraction.text import TfidfVectorizer\n",
    "vectorizer = TfidfVectorizer(stop_words='english')\n",
    "X_train = vectorizer.fit_transform(X_train['Sinopse'])\n",
    "X_test = vectorizer.transform(X_test['Sinopse'])\n",
    "\n",
    "# Treinar o modelo KNN\n",
    "knn = KNeighborsClassifier(n_neighbors=5)\n",
    "knn.fit(X_train, y_train)\n",
    "\n",
    "# Avaliar o modelo\n",
    "y_pred = knn.predict(X_test)\n",
    "accuracy = accuracy_score(y_test, y_pred)\n",
    "conf_matrix = confusion_matrix(y_test, y_pred)\n",
    "\n",
    "# Calculando manualmente os valores de verdadeiros positivos, falsos positivos, verdadeiros negativos e falsos negativos\n",
    "tp = conf_matrix[1, 1]\n",
    "fp = conf_matrix[0, 1]\n",
    "tn = conf_matrix[0, 0]\n",
    "fn = conf_matrix[1, 0]\n",
    "\n",
    "# Imprimir os valores de verdadeiros positivos, falsos positivos, verdadeiros negativos e falsos negativos\n",
    "print(\"Verdadeiros Positivos:\", tp)\n",
    "print(\"Falsos Positivos:\", fp)\n",
    "print(\"Verdadeiros Negativos:\", tn)\n",
    "print(\"Falsos Negativos:\", fn)\n",
    "print(\"Acurácia:\", accuracy)\n",
    "\n",
    "# Plotar a matriz de confusão usando Plotly\n",
    "fig = go.Figure(data=go.Heatmap(z=conf_matrix,\n",
    "                                 x=knn.classes_,\n",
    "                                 y=knn.classes_,\n",
    "                                 colorscale='Blues',\n",
    "                                 colorbar=dict(title='Contagem'),\n",
    "                                 hoverongaps=False))\n",
    "fig.update_layout(title='Matriz de Confusão',\n",
    "                  xaxis=dict(title='Gênero Previsto', automargin=True),\n",
    "                  yaxis=dict(title='Gênero Verdadeiro', automargin=True),\n",
    "                  width=800, height=600,\n",
    "                  font=dict(size=12),\n",
    "                  plot_bgcolor='rgba(0, 0, 0, 0)',\n",
    "                  paper_bgcolor='rgba(0, 0, 0, 0)',\n",
    "                  hoverlabel=dict(bgcolor=\"white\", font_size=12, font_family=\"Rockwell\"))\n",
    "for i in range(len(conf_matrix)):\n",
    "    for j in range(len(conf_matrix[0])):\n",
    "        if conf_matrix[i][j] != 0:\n",
    "            fig.add_annotation(x=knn.classes_[j], y=knn.classes_[i], text=str(conf_matrix[i][j]),\n",
    "                               showarrow=False, font=dict(color='black', size=12))\n",
    "fig.show()"
   ]
  }
 ],
 "metadata": {
  "kernelspec": {
   "display_name": "Python 3 (ipykernel)",
   "language": "python",
   "name": "python3"
  },
  "language_info": {
   "codemirror_mode": {
    "name": "ipython",
    "version": 3
   },
   "file_extension": ".py",
   "mimetype": "text/x-python",
   "name": "python",
   "nbconvert_exporter": "python",
   "pygments_lexer": "ipython3",
   "version": "3.9.13"
  }
 },
 "nbformat": 4,
 "nbformat_minor": 5
}
