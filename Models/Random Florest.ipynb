{
 "cells": [
  {
   "cell_type": "code",
   "execution_count": 2,
   "id": "44bdbf8f-58a5-4c5a-abfb-b60022259997",
   "metadata": {},
   "outputs": [
    {
     "name": "stderr",
     "output_type": "stream",
     "text": [
      "\n",
      "KeyboardInterrupt\n",
      "\n"
     ]
    }
   ],
   "source": [
    "# Importando as bibliotecas necessárias\n",
    "import pandas as pd\n",
    "from sklearn.feature_extraction.text import TfidfVectorizer\n",
    "from sklearn.ensemble import RandomForestClassifier\n",
    "from sklearn.metrics.pairwise import linear_kernel\n",
    "import joblib\n",
    "\n",
    "# Carregando os dados do arquivo CSV\n",
    "df = pd.read_csv('dados.csv')\n",
    "\n",
    "# Pré-processamento dos dados\n",
    "# Para simplificar, vou considerar apenas 'titulo', 'genero' e 'sinopse'\n",
    "features = ['Titulo', 'Genero', 'Sinopse']\n",
    "df['Sinopse'] = df['Sinopse'].fillna('')  # Lidando com valores nulos na sinopse\n",
    "\n",
    "# Construindo um vetorizador TF-IDF para converter texto em vetores numéricos\n",
    "tfidf_vectorizer = TfidfVectorizer(stop_words='english')\n",
    "tfidf_matrix = tfidf_vectorizer.fit_transform(df['Sinopse'])\n",
    "\n",
    "# Treinando o modelo Random Forest\n",
    "random_forest = RandomForestClassifier(n_estimators=100, random_state=42)\n",
    "random_forest.fit(tfidf_matrix, df['Titulo'])\n",
    "\n",
    "# Salvando o modelo e o vetorizador para uso futuro\n",
    "joblib.dump(random_forest, 'modelo_random_forest.pkl')\n",
    "joblib.dump(tfidf_vectorizer, 'vetorizador_tfidf.pkl')\n",
    "\n",
    "# Função para recomendar filmes com base na sinopse fornecida pelo usuário\n",
    "def recomendar_filmes(sinopse_usuario, df, tfidf_vectorizer, modelo):\n",
    "    # Vetorizando a sinopse do usuário usando o mesmo vetorizador usado no treinamento\n",
    "    sinopse_usuario_vec = tfidf_vectorizer.transform([sinopse_usuario])\n",
    "\n",
    "    # Fazendo previsões de classificação usando o modelo Random Forest\n",
    "    predicoes = modelo.predict(sinopse_usuario_vec)\n",
    "\n",
    "    # Recuperando os filmes recomendados com base nas previsões\n",
    "    indices_recomendados = df[df['Titulo'] == predicoes[0]].index\n",
    "\n",
    "    return df.iloc[indices_recomendados]\n",
    "\n",
    "# Exemplo de uso da função para recomendar filmes\n",
    "sinopse_usuario = \"war\"\n",
    "filmes_recomendados = recomendar_filmes(sinopse_usuario, df, tfidf_vectorizer, random_forest)\n",
    "print(filmes_recomendados[['Titulo', 'Genero', 'Sinopse']])"
   ]
  },
  {
   "cell_type": "code",
   "execution_count": null,
   "id": "63f8180b-d0d2-4d71-9268-e4f7bce9a9e8",
   "metadata": {},
   "outputs": [],
   "source": []
  }
 ],
 "metadata": {
  "kernelspec": {
   "display_name": "Python 3 (ipykernel)",
   "language": "python",
   "name": "python3"
  },
  "language_info": {
   "codemirror_mode": {
    "name": "ipython",
    "version": 3
   },
   "file_extension": ".py",
   "mimetype": "text/x-python",
   "name": "python",
   "nbconvert_exporter": "python",
   "pygments_lexer": "ipython3",
   "version": "3.11.7"
  }
 },
 "nbformat": 4,
 "nbformat_minor": 5
}
