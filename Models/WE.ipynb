{
 "cells": [
  {
   "cell_type": "code",
   "execution_count": 6,
   "id": "b428cb20-2849-44a9-98a5-2262d5dd354d",
   "metadata": {},
   "outputs": [
    {
     "name": "stderr",
     "output_type": "stream",
     "text": [
      "[nltk_data] Downloading package stopwords to\n",
      "[nltk_data]     C:\\Users\\arthu\\AppData\\Roaming\\nltk_data...\n",
      "[nltk_data]   Package stopwords is already up-to-date!\n",
      "[nltk_data] Downloading package punkt to\n",
      "[nltk_data]     C:\\Users\\arthu\\AppData\\Roaming\\nltk_data...\n",
      "[nltk_data]   Package punkt is already up-to-date!\n"
     ]
    },
    {
     "name": "stdin",
     "output_type": "stream",
     "text": [
      "Digite suas preferências de filme:  guns\n"
     ]
    },
    {
     "name": "stdout",
     "output_type": "stream",
     "text": [
      "Filme recomendado para você: Rainbow Time\n"
     ]
    }
   ],
   "source": [
    "import pandas as pd\n",
    "import nltk\n",
    "from nltk.corpus import stopwords\n",
    "from nltk.tokenize import word_tokenize\n",
    "from sklearn.feature_extraction.text import TfidfVectorizer\n",
    "from sklearn.metrics.pairwise import cosine_similarity\n",
    "# Modelo de Similaridade de Cosseno com Word Embeddings:\n",
    "# Carregar o DataFrame com os dados dos filmes\n",
    "df = pd.read_csv('dados.csv')\n",
    "\n",
    "# Carregar modelo de stop words do NLTK\n",
    "nltk.download('stopwords')\n",
    "nltk.download('punkt')\n",
    "\n",
    "# Carregar stopwords e definir stopwords para inglês\n",
    "stop_words = set(stopwords.words('english'))\n",
    "\n",
    "# Pré-processamento de texto para sinopses\n",
    "def preprocess_text(text):\n",
    "    # Tokenização\n",
    "    tokens = word_tokenize(text)\n",
    "    # Remover stop words e palavras com menos de 3 caracteres\n",
    "    tokens = [word.lower() for word in tokens if word.isalpha() and word.lower() not in stop_words and len(word) > 2]\n",
    "    return ' '.join(tokens)\n",
    "\n",
    "# Aplicar pré-processamento às sinopses\n",
    "df['sinopse_processada'] = df['Sinopse'].apply(preprocess_text)\n",
    "\n",
    "# Criar um vetorizador TF-IDF para converter o texto da sinopse em recursos numéricos\n",
    "vectorizer = TfidfVectorizer(stop_words='english')\n",
    "X = vectorizer.fit_transform(df['sinopse_processada'])\n",
    "\n",
    "# Solicitar entrada do usuário\n",
    "entrada_usuario = input(\"Digite suas preferências de filme: \")\n",
    "\n",
    "# Pré-processar a entrada do usuário\n",
    "entrada_usuario_processada = preprocess_text(entrada_usuario)\n",
    "\n",
    "# Vetorizar a entrada do usuário\n",
    "entrada_usuario_vector = vectorizer.transform([entrada_usuario_processada])\n",
    "\n",
    "# Calcular similaridade de cosseno entre a entrada do usuário e as sinopses\n",
    "similaridades = cosine_similarity(entrada_usuario_vector, X)\n",
    "\n",
    "# Encontrar o filme mais similar\n",
    "indice_filme_similar = similaridades.argmax()\n",
    "filme_recomendado = df.loc[indice_filme_similar, 'Titulo']\n",
    "print(\"Filme recomendado para você:\", filme_recomendado)\n"
   ]
  },
  {
   "cell_type": "code",
   "execution_count": null,
   "id": "6da5dd6a-85aa-42f7-b7b0-50788a82ea6b",
   "metadata": {},
   "outputs": [],
   "source": []
  }
 ],
 "metadata": {
  "kernelspec": {
   "display_name": "Python 3 (ipykernel)",
   "language": "python",
   "name": "python3"
  },
  "language_info": {
   "codemirror_mode": {
    "name": "ipython",
    "version": 3
   },
   "file_extension": ".py",
   "mimetype": "text/x-python",
   "name": "python",
   "nbconvert_exporter": "python",
   "pygments_lexer": "ipython3",
   "version": "3.11.7"
  }
 },
 "nbformat": 4,
 "nbformat_minor": 5
}
