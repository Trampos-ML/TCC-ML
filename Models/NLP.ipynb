{
 "cells": [
  {
   "cell_type": "code",
   "execution_count": 1,
   "id": "429cf3eb-ac7d-4829-ad75-4fa51a39335b",
   "metadata": {},
   "outputs": [
    {
     "data": {
      "text/html": [
       "<div>\n",
       "<style scoped>\n",
       "    .dataframe tbody tr th:only-of-type {\n",
       "        vertical-align: middle;\n",
       "    }\n",
       "\n",
       "    .dataframe tbody tr th {\n",
       "        vertical-align: top;\n",
       "    }\n",
       "\n",
       "    .dataframe thead th {\n",
       "        text-align: right;\n",
       "    }\n",
       "</style>\n",
       "<table border=\"1\" class=\"dataframe\">\n",
       "  <thead>\n",
       "    <tr style=\"text-align: right;\">\n",
       "      <th></th>\n",
       "      <th>Titulo</th>\n",
       "      <th>Sinopse</th>\n",
       "    </tr>\n",
       "  </thead>\n",
       "  <tbody>\n",
       "    <tr>\n",
       "      <th>26</th>\n",
       "      <td>Naruto the Movie: Ninja Clash in the Land of Snow</td>\n",
       "      <td>naruto  sasuke and sakura learn they ll be pro...</td>\n",
       "    </tr>\n",
       "    <tr>\n",
       "      <th>22</th>\n",
       "      <td>Naruto Shippuden: The Movie</td>\n",
       "      <td>the adventures of adolescent ninja naruto uzum...</td>\n",
       "    </tr>\n",
       "    <tr>\n",
       "      <th>24</th>\n",
       "      <td>Naruto the Movie 2: Legend of the Stone of Gelel</td>\n",
       "      <td>while on a mission to return a missing pet  na...</td>\n",
       "    </tr>\n",
       "    <tr>\n",
       "      <th>23</th>\n",
       "      <td>Naruto Shippuden: The Movie: The Lost Tower</td>\n",
       "      <td>when naruto is sent to recover a missing nin  ...</td>\n",
       "    </tr>\n",
       "    <tr>\n",
       "      <th>20</th>\n",
       "      <td>Naruto Shippûden the Movie: Bonds</td>\n",
       "      <td>when strange ninjas ambush the village of kono...</td>\n",
       "    </tr>\n",
       "  </tbody>\n",
       "</table>\n",
       "</div>"
      ],
      "text/plain": [
       "                                               Titulo  \\\n",
       "26  Naruto the Movie: Ninja Clash in the Land of Snow   \n",
       "22                        Naruto Shippuden: The Movie   \n",
       "24   Naruto the Movie 2: Legend of the Stone of Gelel   \n",
       "23        Naruto Shippuden: The Movie: The Lost Tower   \n",
       "20                  Naruto Shippûden the Movie: Bonds   \n",
       "\n",
       "                                              Sinopse  \n",
       "26  naruto  sasuke and sakura learn they ll be pro...  \n",
       "22  the adventures of adolescent ninja naruto uzum...  \n",
       "24  while on a mission to return a missing pet  na...  \n",
       "23  when naruto is sent to recover a missing nin  ...  \n",
       "20  when strange ninjas ambush the village of kono...  "
      ]
     },
     "execution_count": 1,
     "metadata": {},
     "output_type": "execute_result"
    }
   ],
   "source": [
    "import pandas as pd\n",
    "from sklearn.feature_extraction.text import TfidfVectorizer\n",
    "from sklearn.metrics.pairwise import cosine_similarity\n",
    "\n",
    "# 1. Carregar os Dados\n",
    "df = pd.read_csv(\"dados.csv\")\n",
    "\n",
    "# 2. Pré-processamento dos Dados (se necessário)\n",
    "\n",
    "# 3. Escolha das Features\n",
    "features = ['Sinopse', 'Pais', 'Ano']  # Exemplo: sinopse, país e ano\n",
    "\n",
    "# 4. Vetorização das Sinopses\n",
    "tfidf_vectorizer = TfidfVectorizer(stop_words='english')\n",
    "tfidf_matrix = tfidf_vectorizer.fit_transform(df['Sinopse'])\n",
    "\n",
    "# 5. Construção do Modelo de Recomendação\n",
    "def recommend_movies(input_text, top_n=5):\n",
    "    input_vector = tfidf_vectorizer.transform([input_text])\n",
    "    cosine_similarities = cosine_similarity(input_vector, tfidf_matrix).flatten()\n",
    "    top_indices = cosine_similarities.argsort()[:-top_n-1:-1]  # top N similar movies\n",
    "    return df.iloc[top_indices]\n",
    "\n",
    "# 6. Recomendação de Filmes\n",
    "user_input = \"naruto\"\n",
    "recommended_movies = recommend_movies(user_input)\n",
    "recommended_movies[['Titulo', 'Sinopse']]"
   ]
  },
  {
   "cell_type": "code",
   "execution_count": null,
   "id": "194dd29e-0d34-4634-9fbf-7a98e2b3038b",
   "metadata": {},
   "outputs": [],
   "source": []
  }
 ],
 "metadata": {
  "kernelspec": {
   "display_name": "Python 3 (ipykernel)",
   "language": "python",
   "name": "python3"
  },
  "language_info": {
   "codemirror_mode": {
    "name": "ipython",
    "version": 3
   },
   "file_extension": ".py",
   "mimetype": "text/x-python",
   "name": "python",
   "nbconvert_exporter": "python",
   "pygments_lexer": "ipython3",
   "version": "3.11.7"
  }
 },
 "nbformat": 4,
 "nbformat_minor": 5
}
