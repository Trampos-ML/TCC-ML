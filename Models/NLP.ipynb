{
 "cells": [
  {
   "cell_type": "code",
   "execution_count": 12,
   "id": "429cf3eb-ac7d-4829-ad75-4fa51a39335b",
   "metadata": {},
   "outputs": [
    {
     "data": {
      "text/html": [
       "<div>\n",
       "<style scoped>\n",
       "    .dataframe tbody tr th:only-of-type {\n",
       "        vertical-align: middle;\n",
       "    }\n",
       "\n",
       "    .dataframe tbody tr th {\n",
       "        vertical-align: top;\n",
       "    }\n",
       "\n",
       "    .dataframe thead th {\n",
       "        text-align: right;\n",
       "    }\n",
       "</style>\n",
       "<table border=\"1\" class=\"dataframe\">\n",
       "  <thead>\n",
       "    <tr style=\"text-align: right;\">\n",
       "      <th></th>\n",
       "      <th>Titulo</th>\n",
       "      <th>Sinopse</th>\n",
       "    </tr>\n",
       "  </thead>\n",
       "  <tbody>\n",
       "    <tr>\n",
       "      <th>1672</th>\n",
       "      <td>Kevin Hart: I'm a Grown Little Man</td>\n",
       "      <td>stand up comedy star kevin hart delivers his u...</td>\n",
       "    </tr>\n",
       "    <tr>\n",
       "      <th>2556</th>\n",
       "      <td>Monty Python: Before the Flying Circus</td>\n",
       "      <td>discover how six seemingly ordinary but suprem...</td>\n",
       "    </tr>\n",
       "    <tr>\n",
       "      <th>2296</th>\n",
       "      <td>Ray Romano: Right Here, Around the Corner</td>\n",
       "      <td>ray romano cut his stand up teeth at the comed...</td>\n",
       "    </tr>\n",
       "    <tr>\n",
       "      <th>351</th>\n",
       "      <td>Love Jones</td>\n",
       "      <td>a poet and a photographer take a chance on rom...</td>\n",
       "    </tr>\n",
       "    <tr>\n",
       "      <th>1488</th>\n",
       "      <td>World Famous Lover</td>\n",
       "      <td>when his frustrated girlfriend decides to leav...</td>\n",
       "    </tr>\n",
       "  </tbody>\n",
       "</table>\n",
       "</div>"
      ],
      "text/plain": [
       "                                         Titulo  \\\n",
       "1672         Kevin Hart: I'm a Grown Little Man   \n",
       "2556     Monty Python: Before the Flying Circus   \n",
       "2296  Ray Romano: Right Here, Around the Corner   \n",
       "351                                  Love Jones   \n",
       "1488                         World Famous Lover   \n",
       "\n",
       "                                                Sinopse  \n",
       "1672  stand up comedy star kevin hart delivers his u...  \n",
       "2556  discover how six seemingly ordinary but suprem...  \n",
       "2296  ray romano cut his stand up teeth at the comed...  \n",
       "351   a poet and a photographer take a chance on rom...  \n",
       "1488  when his frustrated girlfriend decides to leav...  "
      ]
     },
     "execution_count": 12,
     "metadata": {},
     "output_type": "execute_result"
    }
   ],
   "source": [
    "import pandas as pd\n",
    "from sklearn.feature_extraction.text import TfidfVectorizer\n",
    "from sklearn.metrics.pairwise import cosine_similarity\n",
    "\n",
    "# 1. Carregar os Dados\n",
    "df = pd.read_csv(\"dados.csv\")\n",
    "\n",
    "# 2. Pré-processamento dos Dados (se necessário)\n",
    "\n",
    "# 3. Escolha das Features\n",
    "features = ['Sinopse', 'Pais', 'Ano']  # Exemplo: sinopse, país e ano\n",
    "\n",
    "# 4. Vetorização das Sinopses\n",
    "tfidf_vectorizer = TfidfVectorizer(stop_words='english')\n",
    "tfidf_matrix = tfidf_vectorizer.fit_transform(df['Sinopse'])\n",
    "\n",
    "# 5. Construção do Modelo de Recomendação\n",
    "def recommend_movies(input_text, top_n=5):\n",
    "    input_vector = tfidf_vectorizer.transform([input_text])\n",
    "    cosine_similarities = cosine_similarity(input_vector, tfidf_matrix).flatten()\n",
    "    top_indices = cosine_similarities.argsort()[:-top_n-1:-1]  # top N similar movies\n",
    "    return df.iloc[top_indices]\n",
    "\n",
    "# 6. Recomendação de Filmes\n",
    "user_input = \"romance and comedy\"\n",
    "recommended_movies = recommend_movies(user_input)\n",
    "recommended_movies[['Titulo', 'Sinopse']]"
   ]
  },
  {
   "cell_type": "code",
   "execution_count": null,
   "id": "194dd29e-0d34-4634-9fbf-7a98e2b3038b",
   "metadata": {},
   "outputs": [],
   "source": []
  }
 ],
 "metadata": {
  "kernelspec": {
   "display_name": "Python 3 (ipykernel)",
   "language": "python",
   "name": "python3"
  },
  "language_info": {
   "codemirror_mode": {
    "name": "ipython",
    "version": 3
   },
   "file_extension": ".py",
   "mimetype": "text/x-python",
   "name": "python",
   "nbconvert_exporter": "python",
   "pygments_lexer": "ipython3",
   "version": "3.11.7"
  }
 },
 "nbformat": 4,
 "nbformat_minor": 5
}
