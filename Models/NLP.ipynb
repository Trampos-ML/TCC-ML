{
 "cells": [
  {
   "cell_type": "code",
   "execution_count": 4,
   "id": "429cf3eb-ac7d-4829-ad75-4fa51a39335b",
   "metadata": {},
   "outputs": [
    {
     "name": "stdout",
     "output_type": "stream",
     "text": [
      "                     Titulo  \\\n",
      "815         Must Be... Love   \n",
      "4579      Manhattan Romance   \n",
      "4576       Mandobasar Galpo   \n",
      "4636  Mission: Destroy Love   \n",
      "1162            Almost Love   \n",
      "\n",
      "                                                Sinopse  \\\n",
      "815   when a teenage girl develops romantic feelings...   \n",
      "4579  a filmmaker working on a documentary about lov...   \n",
      "4576  with the assistance of a psychiatrist  an accl...   \n",
      "4636  two strangers meet by chance on a trip to thai...   \n",
      "1162  a close crew of striving new yorkers experienc...   \n",
      "\n",
      "                                               Genero  \n",
      "815            Comedies, Dramas, International Movies  \n",
      "4579    Comedies, Independent Movies, Romantic Movies  \n",
      "4576    Dramas, International Movies, Romantic Movies  \n",
      "4636  Comedies, International Movies, Romantic Movies  \n",
      "1162             Comedies, Dramas, Independent Movies  \n",
      "Tempo de execução: 0.1788182258605957 segundos\n"
     ]
    }
   ],
   "source": [
    "import pandas as pd\n",
    "from sklearn.feature_extraction.text import TfidfVectorizer\n",
    "from sklearn.metrics.pairwise import cosine_similarity\n",
    "import time\n",
    "\n",
    "# Início da contagem de tempo\n",
    "start_time = time.time()\n",
    "\n",
    "# 1. Carregar os Dados\n",
    "df = pd.read_csv(\"dados.csv\")\n",
    "\n",
    "# 2. Pré-processamento dos Dados (se necessário)\n",
    "\n",
    "# 4. Vetorização das Sinopses\n",
    "tfidf_vectorizer = TfidfVectorizer(stop_words='english')\n",
    "tfidf_matrix = tfidf_vectorizer.fit_transform(df['Sinopse'])\n",
    "\n",
    "# 5. Construção do Modelo de Recomendação\n",
    "def recommend_movies(input_text, top_n=5):\n",
    "    input_vector = tfidf_vectorizer.transform([input_text])\n",
    "    cosine_similarities = cosine_similarity(input_vector, tfidf_matrix).flatten()\n",
    "    top_indices = cosine_similarities.argsort()[:-top_n-1:-1]  # top N similar movies\n",
    "    return df.iloc[top_indices]\n",
    "\n",
    "# 6. Recomendação de Filmes\n",
    "user_input = \"Romantic\"\n",
    "recommended_movies = recommend_movies(user_input)\n",
    "print(recommended_movies[['Titulo', 'Sinopse', 'Genero']])\n",
    "\n",
    "# Fim da contagem de tempo\n",
    "end_time = time.time()\n",
    "# Tempo total de execução\n",
    "execution_time = end_time - start_time\n",
    "print(\"Tempo de execução:\", execution_time, \"segundos\")"
   ]
  },
  {
   "cell_type": "code",
   "execution_count": null,
   "id": "194dd29e-0d34-4634-9fbf-7a98e2b3038b",
   "metadata": {},
   "outputs": [],
   "source": []
  }
 ],
 "metadata": {
  "kernelspec": {
   "display_name": "Python 3 (ipykernel)",
   "language": "python",
   "name": "python3"
  },
  "language_info": {
   "codemirror_mode": {
    "name": "ipython",
    "version": 3
   },
   "file_extension": ".py",
   "mimetype": "text/x-python",
   "name": "python",
   "nbconvert_exporter": "python",
   "pygments_lexer": "ipython3",
   "version": "3.11.7"
  }
 },
 "nbformat": 4,
 "nbformat_minor": 5
}
