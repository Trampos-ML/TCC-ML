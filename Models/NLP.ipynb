{
 "cells": [
  {
   "cell_type": "code",
   "execution_count": 2,
   "id": "429cf3eb-ac7d-4829-ad75-4fa51a39335b",
   "metadata": {},
   "outputs": [
    {
     "name": "stdout",
     "output_type": "stream",
     "text": [
      "                     Titulo  \\\n",
      "796           She's the One   \n",
      "4636  Mission: Destroy Love   \n",
      "4576       Mandobasar Galpo   \n",
      "2615        What the Jatt!!   \n",
      "4579      Manhattan Romance   \n",
      "\n",
      "                                                Sinopse  \\\n",
      "796   when his best friend gets stranded in the rain...   \n",
      "4636  two strangers meet by chance on a trip to thai...   \n",
      "4576  with the assistance of a psychiatrist  an accl...   \n",
      "2615  a peasant from punjab and his best friend pose...   \n",
      "4579  a filmmaker working on a documentary about lov...   \n",
      "\n",
      "                                               Genero  \n",
      "796     Dramas, International Movies, Romantic Movies  \n",
      "4636  Comedies, International Movies, Romantic Movies  \n",
      "4576    Dramas, International Movies, Romantic Movies  \n",
      "2615  Comedies, International Movies, Romantic Movies  \n",
      "4579    Comedies, Independent Movies, Romantic Movies  \n",
      "Tempo de execução: 0.19836831092834473 segundos\n"
     ]
    }
   ],
   "source": [
    "import pandas as pd\n",
    "from sklearn.feature_extraction.text import TfidfVectorizer\n",
    "from sklearn.metrics.pairwise import cosine_similarity\n",
    "import time\n",
    "\n",
    "# Início da contagem de tempo\n",
    "start_time = time.time()\n",
    "\n",
    "# 1. Carregar os Dados\n",
    "df = pd.read_csv(\"dados.csv\")\n",
    "\n",
    "# 2. Pré-processamento dos Dados (se necessário)\n",
    "\n",
    "# 3. Combinar título, sinopse e gênero em uma única coluna\n",
    "df['Features'] = df['Titulo'] + ' ' + df['Sinopse'] + ' ' + df['Genero'] + ' ' + df['Pais'] + ' ' + df['Ano'].astype(str) + ' ' + df['Minutagem'].astype(str)\n",
    "\n",
    "# 4. Vetorização das Features\n",
    "tfidf_vectorizer = TfidfVectorizer(stop_words='english')\n",
    "tfidf_matrix = tfidf_vectorizer.fit_transform(df['Features'])\n",
    "\n",
    "# 5. Construção do Modelo de Recomendação\n",
    "def recommend_movies(input_text, top_n=5):\n",
    "    input_vector = tfidf_vectorizer.transform([input_text])\n",
    "    cosine_similarities = cosine_similarity(input_vector, tfidf_matrix).flatten()\n",
    "    top_indices = cosine_similarities.argsort()[:-top_n-1:-1]  # top N similar movies\n",
    "    return df.iloc[top_indices]\n",
    "\n",
    "# 6. Recomendação de Filmes\n",
    "user_input = \"Romantic\"\n",
    "recommended_movies = recommend_movies(user_input)\n",
    "print(recommended_movies[['Titulo', 'Sinopse', 'Genero']])\n",
    "\n",
    "# Fim da contagem de tempo\n",
    "end_time = time.time()\n",
    "# Tempo total de execução\n",
    "execution_time = end_time - start_time\n",
    "print(\"Tempo de execução:\", execution_time, \"segundos\")"
   ]
  },
  {
   "cell_type": "code",
   "execution_count": null,
   "id": "792b84ed",
   "metadata": {},
   "outputs": [],
   "source": []
  }
 ],
 "metadata": {
  "kernelspec": {
   "display_name": "Python 3 (ipykernel)",
   "language": "python",
   "name": "python3"
  },
  "language_info": {
   "codemirror_mode": {
    "name": "ipython",
    "version": 3
   },
   "file_extension": ".py",
   "mimetype": "text/x-python",
   "name": "python",
   "nbconvert_exporter": "python",
   "pygments_lexer": "ipython3",
   "version": "3.9.13"
  }
 },
 "nbformat": 4,
 "nbformat_minor": 5
}
