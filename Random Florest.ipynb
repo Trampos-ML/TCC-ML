{
 "cells": [
  {
   "cell_type": "code",
   "execution_count": null,
   "id": "c7421157-1c28-4b33-930f-6789ad42f641",
   "metadata": {},
   "outputs": [],
   "source": [
    "import pandas as pd\n",
    "from sklearn.feature_extraction.text import TfidfVectorizer\n",
    "from sklearn.ensemble import RandomForestClassifier\n",
    "\n",
    "# Carregar o DataFrame com os dados dos filmes\n",
    "df = pd.read_csv('dados.csv')\n",
    "\n",
    "# Pré-processar as sinopses\n",
    "vectorizer = TfidfVectorizer(stop_words='english')\n",
    "X = vectorizer.fit_transform(df['Sinopse'])\n",
    "\n",
    "# Construir o modelo Random Forest\n",
    "model_rf = RandomForestClassifier(n_estimators=100, random_state=42)\n",
    "\n",
    "# Treinar o modelo\n",
    "model_rf.fit(X, df['Titulo'])\n",
    "\n",
    "# Solicitar input do usuário\n",
    "entrada_usuario = input(\"Digite suas preferências: \")\n",
    "\n",
    "# Vetorizar o input do usuário\n",
    "entrada_usuario_vector = vectorizer.transform([entrada_usuario])\n",
    "\n",
    "# Fazer a previsão usando o modelo\n",
    "filme_recomendado = model_rf.predict(entrada_usuario_vector)[0]\n",
    "print(\"Filme recomendado para você:\", filme_recomendado)"
   ]
  },
  {
   "cell_type": "code",
   "execution_count": null,
   "id": "44bdbf8f-58a5-4c5a-abfb-b60022259997",
   "metadata": {},
   "outputs": [],
   "source": [
    "import pandas as pd\n",
    "from sklearn.feature_extraction.text import TfidfVectorizer\n",
    "from sklearn.ensemble import RandomForestClassifier\n",
    "\n",
    "# Carregar o DataFrame com os dados dos filmes\n",
    "df = pd.read_csv('dados.csv')\n",
    "\n",
    "# Limitar o número máximo de features ao vetorizar o texto\n",
    "max_features = 5000  # Ajuste conforme necessário\n",
    "vectorizer = TfidfVectorizer(stop_words='english', max_features=max_features)\n",
    "X = vectorizer.fit_transform(df['Sinopse'])\n",
    "\n",
    "# Reduzir o número de árvores na floresta\n",
    "n_estimators = 50  # Ajuste conforme necessário\n",
    "model_rf = RandomForestClassifier(n_estimators=n_estimators, random_state=42, n_jobs=-1)\n",
    "\n",
    "# Treinar o modelo\n",
    "model_rf.fit(X, df['Titulo'])\n",
    "\n",
    "# Solicitar input do usuário\n",
    "entrada_usuario = input(\"Digite suas preferências: \")\n",
    "\n",
    "# Vetorizar o input do usuário\n",
    "entrada_usuario_vector = vectorizer.transform([entrada_usuario])\n",
    "\n",
    "# Fazer a previsão usando o modelo\n",
    "filme_recomendado = model_rf.predict(entrada_usuario_vector)[0]\n",
    "print(\"Filme recomendado para você:\", filme_recomendado)"
   ]
  }
 ],
 "metadata": {
  "kernelspec": {
   "display_name": "Python 3 (ipykernel)",
   "language": "python",
   "name": "python3"
  },
  "language_info": {
   "codemirror_mode": {
    "name": "ipython",
    "version": 3
   },
   "file_extension": ".py",
   "mimetype": "text/x-python",
   "name": "python",
   "nbconvert_exporter": "python",
   "pygments_lexer": "ipython3",
   "version": "3.11.7"
  }
 },
 "nbformat": 4,
 "nbformat_minor": 5
}
